{
 "cells": [
  {
   "cell_type": "markdown",
   "metadata": {},
   "source": [
    "# Task 1\n",
    "Construir un programa que reciba como entrada una imagen cuadrada que represente un laberinto. Deberá dibujar en pantalla la solución al mismo. Deberá considerar las siguientes restricciones:\n",
    "- Las dimensiones de entrada podrán variar entre ejecuciones (pero siempre será una imagen cuadrada)\n",
    "- Las áreas blancas representan caminos libres\n",
    "- Las áreas negras representan paredes sobre las cuales no se puede pasar\n",
    "- Las áreas verdes representan la meta (goalTest positivos) (pueden ser varios)\n",
    "- La área roja representa el punto de inicio (solo podrá haber uno)\n",
    "\n"
   ]
  },
  {
   "cell_type": "markdown",
   "metadata": {},
   "source": [
    "## Task 1.1 Discretización de la imagen"
   ]
  },
  {
   "cell_type": "code",
   "execution_count": 1,
   "metadata": {},
   "outputs": [
    {
     "data": {
      "image/png": "[encoded data removed]",
      "text/plain": [
       "<Figure size 640x480 with 1 Axes>"
      ]
     },
     "metadata": {},
     "output_type": "display_data"
    },
    {
     "name": "stdout",
     "output_type": "stream",
     "text": [
      "Matriz discretizada:\n",
      "[[1 1 1 1 1 1 1 1 1 1 1 1 1 1 1 1 1 1 1 1 1 1 1 1 1 1 1 1 1 1 1]\n",
      " [1 1 1 1 1 1 1 1 1 1 0 0 0 0 0 0 0 0 0 0 0 1 1 1 1 1 1 1 1 1 1]\n",
      " [1 1 1 1 1 1 1 1 1 1 0 0 0 0 0 0 0 0 0 0 0 1 1 1 1 1 1 1 1 1 1]\n",
      " [1 1 1 1 1 1 1 1 1 1 0 0 0 0 0 0 0 0 0 0 0 1 1 1 1 1 1 1 1 1 1]\n",
      " [1 0 0 0 0 0 0 0 0 0 0 0 0 0 0 0 0 0 0 0 0 1 1 1 1 1 1 1 1 1 1]\n",
      " [1 0 0 0 0 0 0 0 0 0 0 0 0 0 0 0 0 0 0 0 0 1 1 1 1 1 1 1 1 1 1]\n",
      " [1 0 0 1 1 1 1 1 1 1 1 1 1 1 1 1 0 0 0 0 0 1 1 1 1 1 1 1 1 1 1]\n",
      " [1 0 0 1 1 1 1 1 1 1 1 1 1 1 1 1 0 0 0 0 0 1 1 1 1 1 1 1 1 1 1]\n",
      " [1 0 0 1 1 1 1 1 1 1 1 1 1 1 1 1 0 0 0 0 0 0 0 0 0 0 0 0 0 0 1]\n",
      " [1 0 0 1 1 1 1 1 1 1 1 1 1 1 1 1 0 0 0 0 0 0 0 0 0 0 0 0 0 0 1]\n",
      " [1 0 0 1 1 1 1 1 1 1 1 1 1 1 1 1 0 0 0 0 0 1 1 1 1 1 0 0 0 0 1]\n",
      " [1 0 0 1 1 1 1 1 1 0 0 0 0 0 0 0 0 0 0 0 0 1 1 1 1 1 0 0 0 0 1]\n",
      " [1 0 0 1 1 1 1 1 0 0 0 0 0 0 0 0 0 0 0 0 0 1 1 1 1 1 0 0 0 0 1]\n",
      " [1 0 1 1 1 1 1 1 0 0 0 1 1 1 1 1 1 0 0 0 0 1 1 1 1 1 0 0 0 0 1]\n",
      " [1 0 1 1 1 1 1 1 0 0 0 1 1 1 1 1 1 0 0 0 0 1 1 1 0 0 0 0 0 0 1]\n",
      " [1 0 1 1 1 1 1 0 0 0 0 1 1 1 1 1 1 0 0 0 0 1 0 0 0 0 1 1 1 1 1]\n",
      " [1 0 1 1 1 1 1 0 0 0 1 1 1 1 1 1 1 1 1 0 0 0 0 0 0 0 1 1 1 1 1]\n",
      " [1 0 0 0 0 0 0 0 0 0 1 1 1 1 1 1 1 1 1 0 0 0 0 0 0 0 1 1 1 1 1]\n",
      " [1 0 0 0 0 0 0 0 0 0 1 1 1 1 1 1 1 1 1 0 0 0 0 0 0 0 1 1 1 1 1]\n",
      " [1 0 0 0 0 0 0 0 0 0 1 1 1 1 1 1 1 1 1 0 0 0 0 0 0 0 1 1 1 1 1]\n",
      " [1 0 0 0 0 0 0 0 0 0 1 1 1 1 1 1 1 1 1 0 0 0 0 0 0 0 1 1 1 1 1]\n",
      " [1 0 0 0 1 1 0 0 0 0 1 1 1 1 1 1 1 1 1 0 0 0 0 0 0 0 1 1 1 1 1]\n",
      " [1 0 0 1 1 1 0 0 0 0 1 1 1 1 1 1 1 1 1 0 0 0 0 0 0 0 1 1 1 1 1]\n",
      " [1 1 1 1 1 1 1 0 0 0 1 1 1 1 0 0 0 0 0 0 0 0 0 0 0 0 1 1 1 1 1]\n",
      " [1 1 1 1 1 1 1 1 0 0 1 1 0 0 0 0 0 0 0 0 0 0 0 0 0 0 1 1 1 1 1]\n",
      " [1 1 1 1 1 1 1 1 0 0 1 0 0 0 0 0 0 0 0 0 0 0 0 0 0 0 0 0 0 0 1]\n",
      " [1 1 1 1 1 1 1 1 0 0 0 0 0 0 0 1 1 1 1 1 1 1 1 0 0 0 0 0 0 0 1]\n",
      " [1 1 1 1 1 1 1 1 0 0 0 0 0 0 0 1 1 1 1 1 1 1 1 0 0 0 0 0 0 0 1]\n",
      " [1 1 1 1 1 1 1 1 0 0 0 0 0 0 0 1 1 1 1 1 1 1 1 0 0 0 0 0 0 0 1]\n",
      " [1 1 1 1 1 1 1 1 0 0 0 0 0 0 0 1 1 1 1 1 1 1 1 0 0 0 0 0 0 0 1]\n",
      " [1 1 1 1 1 1 1 1 1 1 1 1 1 1 1 1 1 1 1 1 1 1 1 1 1 1 1 1 1 1 1]]\n",
      "Coordenadas del punto de inicio (rojo): (22, 22)\n",
      "Coordenadas de los puntos finales (verdes): [(4, 12), (19, 2)]\n"
     ]
    }
   ],
   "source": [
    "import numpy as np\n",
    "import matplotlib.pyplot as plt\n",
    "from PIL import Image\n",
    "\n",
    "def discretize_image_and_matrix(image_path, pixel_size):\n",
    "    # Abrir la imagen\n",
    "    image = Image.open(image_path)\n",
    "    image = image.convert('RGB')\n",
    "\n",
    "    # Convertir la imagen a un array numpy\n",
    "    image_array = np.array(image)\n",
    "    height, width, _ = image_array.shape\n",
    "\n",
    "    # Crear una nueva imagen con el tamaño adecuado para agregar el marco negro\n",
    "    padded_height = height + 2 * pixel_size\n",
    "    padded_width = width + 2 * pixel_size\n",
    "    padded_image_array = np.zeros((padded_height, padded_width, 3), dtype=np.uint8)\n",
    "\n",
    "    # Agregar el marco negro alrededor de la imagen original\n",
    "    padded_image_array[pixel_size:pixel_size + height, pixel_size:pixel_size + width, :] = image_array\n",
    "\n",
    "    # Ajustar las dimensiones de la imagen para que sean múltiplos de pixel_size\n",
    "    new_height = (padded_height // pixel_size) * pixel_size\n",
    "    new_width = (padded_width // pixel_size) * pixel_size\n",
    "    padded_image_array = padded_image_array[:new_height, :new_width]\n",
    "\n",
    "    discretized_height = new_height // pixel_size\n",
    "    discretized_width = new_width // pixel_size\n",
    "    discretized_img = np.zeros((discretized_height, discretized_width, 3), dtype=np.uint8)\n",
    "    discretized_matrix = np.zeros((discretized_height, discretized_width), dtype=np.uint8)\n",
    "\n",
    "    start_point = None\n",
    "    end_points = []\n",
    "\n",
    "    for i in range(0, new_height, pixel_size):\n",
    "        for j in range(0, new_width, pixel_size):\n",
    "            region = padded_image_array[i:i + pixel_size, j:j + pixel_size, :]\n",
    "\n",
    "            # Tomar el color del primer píxel de la región\n",
    "            pixel_color = region[pixel_size // 2, pixel_size // 2, :]\n",
    "            discretized_img[i // pixel_size, j // pixel_size, :] = pixel_color\n",
    "\n",
    "            # Identificar y cambiar píxeles grises a negro por su código RGB\n",
    "            if np.all(region[:, :, 0] >= 0) and np.all(region[:, :, 0] <= 225):\n",
    "                pixel_color = [0, 0, 0]  # Cambiar a color negro\n",
    "            \n",
    "            # Asignar valor a la matriz discretizada\n",
    "            if np.all(pixel_color == [0, 0, 0]):\n",
    "                discretized_matrix[i // pixel_size, j // pixel_size] = 1  # Representa una pared\n",
    "            elif np.all(pixel_color >= [0, 200, 0]) and np.all(pixel_color <= [50, 255, 50]):\n",
    "                discretized_matrix[i // pixel_size, j // pixel_size] = 0  # Representa el objetivo (verde)\n",
    "                end_points.append((i // pixel_size, j // pixel_size))  # Guardar coordenadas del punto final\n",
    "            elif np.all(pixel_color >= [220, 0, 0]) and np.all(pixel_color <= [255, 50, 50]):\n",
    "                discretized_matrix[i // pixel_size, j // pixel_size] = 0  # Representa el inicio (rojo)\n",
    "                start_point = (i // pixel_size, j // pixel_size)  # Guardar coordenadas del punto de inicio\n",
    "\n",
    "    return discretized_img, discretized_matrix, start_point, end_points\n",
    "\n",
    "def plot_discretized_image(discretized_img):\n",
    "    plt.imshow(discretized_img)\n",
    "    plt.axis('off')\n",
    "    plt.show()\n",
    "\n",
    "# Ruta de la imagen y tamaño de píxel deseado\n",
    "image_path = \"Test2.bmp\"\n",
    "pixel_size = 20  # Ajusta el tamaño del píxel según sea necesario\n",
    "\n",
    "# Discretizar la imagen y obtener la matriz discretizada\n",
    "discretized_img, discretized_matrix, start_point, end_points = discretize_image_and_matrix(image_path, pixel_size)\n",
    "\n",
    "# Visualizar la imagen discretizada\n",
    "plot_discretized_image(discretized_img)\n",
    "\n",
    "# Mostrar la matriz discretizada\n",
    "print(\"Matriz discretizada:\")\n",
    "print(discretized_matrix)\n",
    "\n",
    "# Mostrar las coordenadas del punto de inicio (rojo) y de los puntos finales (verdes)\n",
    "print(\"Coordenadas del punto de inicio (rojo):\", start_point)\n",
    "print(\"Coordenadas de los puntos finales (verdes):\", end_points)\n"
   ]
  },
  {
   "cell_type": "markdown",
   "metadata": {},
   "source": [
    "## Task 1.2 Framework de Problemas\n",
    "Usar interfaz genérica o abstracta que sirva para representar el framework para definir el problema formal. Se debe utilizar la matriz obtenida del Task 1.1 y con esta deberá deducir las demás funciones del framework. (actions(s), stepCost(s,a,s), etc). Debe utilizar efectivamente los conceptos del paradigma POO. "
   ]
  },
  {
   "cell_type": "code",
   "execution_count": 2,
   "metadata": {},
   "outputs": [],
   "source": [
    "from abc import ABC, abstractmethod\n",
    "from typing import List, Tuple\n",
    "\n",
    "class SearchAlgorithm(ABC):\n",
    "    def __init__(self, maze: List[List[int]]):\n",
    "        self.maze = maze\n",
    "        self.rows = len(maze)\n",
    "        self.columns = len(maze[0]) if self.rows > 0 else 0\n",
    "\n",
    "    # Verifica si un movimiento es válido\n",
    "    def valid_move(self, position: Tuple[int, int]) -> bool:\n",
    "        row, column = position\n",
    "        if 0 <= row < self.rows and 0 <= column < self.columns:\n",
    "            return self.maze[row][column] == 0  # 0 representa un camino libre\n",
    "        return False\n",
    "    \n",
    "    @abstractmethod\n",
    "    def actions(self, position: Tuple[int, int]) -> List[Tuple[int, int]]:\n",
    "        pass\n",
    "    \n",
    "    @abstractmethod\n",
    "    def step_cost(self, current: Tuple[int, int], next: Tuple[int, int]) -> int:\n",
    "        pass\n",
    "    \n",
    "    @abstractmethod\n",
    "    def search(self, start: Tuple[int, int], goal: Tuple[int, int]) -> List[Tuple[int, int]]:\n",
    "        pass"
   ]
  },
  {
   "cell_type": "markdown",
   "metadata": {},
   "source": [
    "## Task 1.3 Graph-Search \n",
    "Construir el algoritmo genérico (familia de graphSearch). Este recibirá de parámetro una instancia del framework de problemas. Implemente los siguientes algoritmos:\n",
    "- Breadth First Search (BFS)\n",
    "- Depth First Search (DFS)\n",
    "- A* (escoger dos heurísticas, justificar elección)"
   ]
  },
  {
   "cell_type": "markdown",
   "metadata": {},
   "source": [
    "## TASK 1.3\n",
    "### Breadth First Search (BFS)"
   ]
  },
  {
   "cell_type": "code",
   "execution_count": 3,
   "metadata": {},
   "outputs": [],
   "source": [
    "from collections import deque\n",
    "from typing import List, Tuple\n",
    "from abc import ABC, abstractmethod\n",
    "\n",
    "class SearchAlgorithm(ABC):\n",
    "    def __init__(self, maze: List[List[int]]):\n",
    "        self.maze = maze\n",
    "        self.rows = len(maze)\n",
    "        self.columns = len(maze[0]) if self.rows > 0 else 0\n",
    "\n",
    "    def valid_move(self, position : Tuple[int, int]) -> bool:\n",
    "        row, column = position\n",
    "        if 0 <= row < self.rows and 0 <= column < self.columns:\n",
    "            return self.maze[row][column] == 0\n",
    "        return False\n",
    "    \n",
    "    @abstractmethod \n",
    "    def actions(self, position: Tuple[int, int]) -> List[Tuple[int, int]]:\n",
    "        pass\n",
    "    \n",
    "    @abstractmethod\n",
    "    def stepCost(self, current: Tuple[int, int], next: Tuple[int, int]) -> int:\n",
    "        pass\n",
    "    \n",
    "    @abstractmethod\n",
    "    def search(self, start: Tuple[int, int], goal: Tuple[int, int]) -> List[Tuple[int, int]]:\n",
    "        pass\n",
    "\n",
    "class BFS(SearchAlgorithm):\n",
    "    def __init__(self, maze: List[List[int]]):\n",
    "        super().__init__(maze)\n",
    "\n",
    "    def actions(self, position: Tuple[int, int]) -> List[Tuple[int, int]]:\n",
    "        row, column = position\n",
    "        possible_moves = [(row+1, column), (row-1, column), (row, column+1), (row, column-1)]\n",
    "        return [move for move in possible_moves if self.valid_move(move)]\n",
    "\n",
    "    def stepCost(self, current: Tuple[int, int], next: Tuple[int, int]) -> int:\n",
    "        return 1\n",
    "\n",
    "    def search(self, start: Tuple[int, int], goal: Tuple[int, int]) -> List[Tuple[int, int]]:\n",
    "        frontier = deque([start])\n",
    "        came_from = {start: None}\n",
    "\n",
    "        while frontier:\n",
    "            current = frontier.popleft()\n",
    "            if current == goal:\n",
    "                break\n",
    "\n",
    "            for next_move in self.actions(current):\n",
    "                if next_move not in came_from:\n",
    "                    frontier.append(next_move)\n",
    "                    came_from[next_move] = current\n",
    "\n",
    "        # Reconstruct path from start to goal\n",
    "        path = []\n",
    "        current = goal\n",
    "        while current != start:\n",
    "            path.append(current)\n",
    "            current = came_from[current]\n",
    "        path.append(start)\n",
    "        path.reverse()\n",
    "        return path"
   ]
  },
  {
   "cell_type": "code",
   "execution_count": 4,
   "metadata": {},
   "outputs": [],
   "source": [
    "#Instancia BFS \n",
    "bfs = BFS(discretized_matrix)\n",
    "#Definir punto de inicio y salida\n",
    "start = start_point\n",
    "end = end_points"
   ]
  },
  {
   "cell_type": "markdown",
   "metadata": {},
   "source": [
    "## TASK 1.3\n",
    "### Depth First Search (DFS)"
   ]
  },
  {
   "cell_type": "code",
   "execution_count": 5,
   "metadata": {},
   "outputs": [],
   "source": [
    "class DFSAlgorithm(SearchAlgorithm):\n",
    "    def __init__(self, maze: List[List[int]]):\n",
    "        super().__init__(maze)\n",
    "    \n",
    "    def actions(self, position: Tuple[int, int]) -> List[Tuple[int, int]]:\n",
    "        row, col = position\n",
    "        possible_actions = [(row-1, col), (row+1, col), (row, col-1), (row, col+1)]\n",
    "        valid_actions = [action for action in possible_actions if self.valid_move(action)]\n",
    "        return valid_actions\n",
    "    \n",
    "    def stepCost(self, current: Tuple[int, int], next: Tuple[int, int]) -> int:\n",
    "        return 1\n",
    "    \n",
    "    def search(self, start: Tuple[int, int], goal: Tuple[int, int], max_depth: int = float('inf')) -> List[Tuple[int, int]]:\n",
    "        visited = set()\n",
    "        path = []\n",
    "        stack = [(start, 0)]\n",
    "\n",
    "        while stack:\n",
    "            current, depth = stack.pop()\n",
    "            if current == goal:\n",
    "                path.append(current)\n",
    "                return path\n",
    "\n",
    "            if depth < max_depth:\n",
    "                if current not in visited:\n",
    "                    visited.add(current)\n",
    "                    path.append(current)\n",
    "\n",
    "                    possible_actions = self.actions(current)\n",
    "                    stack.extend([(next_action, depth + 1) for next_action in possible_actions])\n",
    "\n",
    "        return []\n",
    "        \n",
    "dfs_algorithm = DFSAlgorithm(discretized_matrix)\n",
    "\n",
    "result_path = dfs_algorithm.search(start_point, end_points[0])"
   ]
  },
  {
   "cell_type": "markdown",
   "metadata": {},
   "source": [
    "## TASK 1.3\n",
    "### A* "
   ]
  },
  {
   "cell_type": "code",
   "execution_count": 10,
   "metadata": {},
   "outputs": [],
   "source": [
    "# Incluir ambas heurísticas aquí\n",
    "import heapq\n",
    "\n",
    "\n",
    "\n",
    "class AStarSearch(SearchAlgorithm):\n",
    "    def actions(self, position: Tuple[int, int]) -> List[Tuple[int, int]]:\n",
    "        # Definir movimientos\n",
    "        potential_moves = [(0, 1), (1, 0), (0, -1), (-1, 0)]\n",
    "        # Retornar solo movimientos válidos \n",
    "        return [(position[0] + move[0], position[1] + move[1]) for move in potential_moves if self.valid_move((position[0] + move[0], position[1] + move[1]))]\n",
    "    \n",
    "\n",
    "    # Distancia de Manhattan\n",
    "    def heuristic(self, current: Tuple[int, int], goals: List[Tuple[int, int]]) -> int:\n",
    "        return min(abs(current[0] - goal[0]) + abs(current[1] - goal[1]) for goal in goals)\n",
    "\n",
    "    def stepCost(self, current: Tuple[int, int], next: Tuple[int, int]) -> int:\n",
    "        return 1\n",
    "    \n",
    "    def search(self, heuristic, start: Tuple[int, int], goal: List[Tuple[int, int]]) -> List[Tuple[int, int]]:\n",
    "        # con heuristica de 0, es la más básica y sencilla\n",
    "        if heuristic == 0:\n",
    "            frontier = []\n",
    "            heapq.heappush(frontier, (0, 0, start))  \n",
    "            came_from = {start: None}\n",
    "            cost_so_far = {start: 0}\n",
    "\n",
    "            while frontier:\n",
    "                current_f, current_g, current = heapq.heappop(frontier)\n",
    "\n",
    "                if current in goal:\n",
    "                    path = []\n",
    "                    while current in came_from:\n",
    "                        path.append(current)\n",
    "                        current = came_from[current]\n",
    "                    return path[::-1]  # Camino reverso\n",
    "\n",
    "                for next in self.actions(current):\n",
    "                    new_cost = cost_so_far[current] + 1  # asumiendo el costo es 1\n",
    "                    if next not in cost_so_far or new_cost < cost_so_far[next]:\n",
    "                        cost_so_far[next] = new_cost\n",
    "                        priority = new_cost + 0\n",
    "                        heapq.heappush(frontier, (priority, new_cost, next))\n",
    "                        came_from[next] = current\n",
    "        \n",
    "        # con heurística de Manhattan Distance\n",
    "        elif heuristic == 1:\n",
    "            frontier = []\n",
    "            heapq.heappush(frontier, (0 + self.heuristic(start, goal), 0, start))  \n",
    "            came_from = {start: None}\n",
    "            cost_so_far = {start: 0}\n",
    "\n",
    "            while frontier:\n",
    "                current_f, current_g, current = heapq.heappop(frontier)\n",
    "\n",
    "                if current in goal:\n",
    "                    path = []\n",
    "                    while current in came_from:\n",
    "                        path.append(current)\n",
    "                        current = came_from[current]\n",
    "                    return path[::-1]  # Camino reverso\n",
    "\n",
    "                for next in self.actions(current):\n",
    "                    new_cost = cost_so_far[current] + 1  # asumiendo el costo es 1\n",
    "                    if next not in cost_so_far or new_cost < cost_so_far[next]:\n",
    "                        cost_so_far[next] = new_cost\n",
    "                        priority = new_cost + self.heuristic(next, goal)\n",
    "                        heapq.heappush(frontier, (priority, new_cost, next))\n",
    "                        came_from[next] = current\n",
    "\n",
    "        return None \n",
    "    \n"
   ]
  },
  {
   "cell_type": "markdown",
   "metadata": {},
   "source": [
    "## TASK 1.4\n",
    "Resolver el laberinto de entrada y mostrar en pantalla gráficamente el camino encontrado. **Su representación se basará en la matriz discreta, no en la imagen original.**  "
   ]
  },
  {
   "cell_type": "code",
   "execution_count": 11,
   "metadata": {},
   "outputs": [
    {
     "name": "stdout",
     "output_type": "stream",
     "text": [
      "Camino encontrado por BFS hasta la meta (4, 12) : [(22, 22), (21, 22), (20, 22), (19, 22), (18, 22), (17, 22), (16, 22), (16, 21), (16, 20), (15, 20), (14, 20), (13, 20), (12, 20), (11, 20), (10, 20), (9, 20), (8, 20), (7, 20), (6, 20), (5, 20), (4, 20), (4, 19), (4, 18), (4, 17), (4, 16), (4, 15), (4, 14), (4, 13), (4, 12)]\n"
     ]
    },
    {
     "data": {
      "image/png": "[encoded data removed]",
      "text/plain": [
       "<Figure size 640x480 with 1 Axes>"
      ]
     },
     "metadata": {},
     "output_type": "display_data"
    },
    {
     "name": "stdout",
     "output_type": "stream",
     "text": [
      "Camino encontrado por BFS hasta la meta (19, 2) : [(22, 22), (23, 22), (24, 22), (25, 22), (25, 21), (25, 20), (25, 19), (25, 18), (25, 17), (25, 16), (25, 15), (25, 14), (26, 14), (26, 13), (26, 12), (26, 11), (26, 10), (26, 9), (25, 9), (24, 9), (23, 9), (22, 9), (21, 9), (20, 9), (19, 9), (19, 8), (19, 7), (19, 6), (19, 5), (19, 4), (19, 3), (19, 2)]\n"
     ]
    },
    {
     "data": {
      "image/png": "[encoded data removed]",
      "text/plain": [
       "<Figure size 640x480 with 1 Axes>"
      ]
     },
     "metadata": {},
     "output_type": "display_data"
    }
   ],
   "source": [
    "#Depth First Search\n",
    "def mark_path_on_image(discretized_img, path, color):\n",
    "    marked_img = np.copy(discretized_img)\n",
    "    for position in path:\n",
    "        row, column = position\n",
    "        marked_img[row, column] = color\n",
    "    return marked_img\n",
    "\n",
    "\n",
    "# Definir colores para la primera gráfica\n",
    "start_color = [255, 0, 0]  # Rojo\n",
    "end_color = [0, 255, 0]  # Verde\n",
    "first_guide_color = [126, 0, 126]  # Rojo para la primera guía\n",
    "\n",
    "# Encontrar el camino para cada punto final y marcarlo en la imagen\n",
    "for i, end_point in enumerate(end_points):\n",
    "    path1 = bfs.search(start_point, end_point)\n",
    "    print(\"Camino encontrado por BFS hasta la meta\", end_point, \":\", path1)\n",
    "    \n",
    "    if i == 0:  # Para la primera gráfica, marca el camino con el color rojo y las coordenadas con sus colores originales\n",
    "        marked_img = mark_path_on_image(discretized_img, path1, first_guide_color)\n",
    "        marked_img_with_start_path = mark_path_on_image(marked_img, [start_point], start_color)\n",
    "        marked_img_with_start_path = mark_path_on_image(marked_img_with_start_path, [end_point], end_color)\n",
    "    else:  # Para las siguientes gráficas, marca el camino con el color guía morado\n",
    "        marked_img = mark_path_on_image(discretized_img, path1, first_guide_color)\n",
    "        marked_img_with_start_path = mark_path_on_image(marked_img, path1, first_guide_color)\n",
    "\n",
    "    # Guardar la imagen marcada\n",
    "    plt.imshow(marked_img_with_start_path)\n",
    "    plt.axis('off')\n",
    "    plt.savefig(f'path_to_end_{i+1}.png', bbox_inches='tight')\n",
    "    plt.show()"
   ]
  },
  {
   "cell_type": "code",
   "execution_count": 12,
   "metadata": {},
   "outputs": [
    {
     "name": "stdout",
     "output_type": "stream",
     "text": [
      "Camino encontrado: [(22, 22), (22, 23), (22, 24), (22, 25), (23, 25), (23, 24), (23, 23), (23, 22), (23, 21), (23, 20), (23, 19), (23, 18), (23, 17), (23, 16), (23, 15), (23, 14), (24, 14), (24, 15), (24, 16), (24, 17), (24, 18), (24, 19), (24, 20), (24, 21), (24, 22), (24, 23), (24, 24), (24, 25), (25, 25), (25, 26), (25, 27), (25, 28), (25, 29), (26, 29), (26, 28), (26, 27), (26, 26), (26, 25), (26, 24), (26, 23), (27, 23), (27, 24), (27, 25), (27, 26), (27, 27), (27, 28), (27, 29), (28, 29), (28, 28), (28, 27), (28, 26), (28, 25), (28, 24), (28, 23), (29, 23), (29, 24), (29, 25), (29, 26), (29, 27), (29, 28), (29, 29), (25, 23), (25, 24), (25, 22), (25, 21), (25, 20), (25, 19), (25, 18), (25, 17), (25, 16), (25, 15), (25, 14), (25, 13), (25, 12), (25, 11), (26, 11), (26, 12), (26, 13), (26, 14), (27, 14), (27, 13), (27, 12), (27, 11), (27, 10), (27, 9), (27, 8), (28, 8), (28, 9), (28, 10), (28, 11), (28, 12), (28, 13), (28, 14), (29, 14), (29, 13), (29, 12), (29, 11), (29, 10), (29, 9), (29, 8), (26, 8), (26, 9), (26, 10), (25, 9), (25, 8), (24, 8), (24, 9), (23, 9), (23, 8), (23, 7), (22, 7), (22, 8), (22, 9), (21, 9), (21, 8), (21, 7), (21, 6), (22, 6), (20, 6), (20, 7), (20, 8), (20, 9), (19, 9), (19, 8), (19, 7), (19, 6), (19, 5), (19, 4), (19, 3), (19, 2)]\n"
     ]
    },
    {
     "data": {
      "image/png": "[encoded data removed]",
      "text/plain": [
       "<Figure size 640x480 with 1 Axes>"
      ]
     },
     "metadata": {},
     "output_type": "display_data"
    }
   ],
   "source": [
    "#DFS\n",
    "\n",
    "def plotWithPath(discretized_img, result_path):\n",
    "    # Crear una copia de la imagen discretizada para no modificar la original\n",
    "    img_with_path = np.copy(discretized_img)\n",
    "\n",
    "    # Resaltar el camino en la copia de la imagen\n",
    "    for point in result_path:\n",
    "        y, x = point\n",
    "        img_with_path[y, x, :] = [14, 25, 60]  # Resaltar el camino en rojo\n",
    "\n",
    "    plt.imshow(img_with_path)\n",
    "    plt.axis('off')\n",
    "    plt.show()\n",
    "\n",
    "# Crear una instancia de DFSAlgorithm y ejecutar la búsqueda\n",
    "dfs_algorithm = DFSAlgorithm(discretized_matrix)\n",
    "\n",
    "result_path = dfs_algorithm.search(start_point, end_points[1])\n",
    "\n",
    "print(\"Camino encontrado:\", result_path)\n",
    "\n",
    "# Visualizar la imagen discretizada con el camino resultante\n",
    "plotWithPath(discretized_img, result_path)"
   ]
  },
  {
   "cell_type": "code",
   "execution_count": 13,
   "metadata": {},
   "outputs": [
    {
     "name": "stdout",
     "output_type": "stream",
     "text": [
      "[(22, 22), (21, 22), (20, 22), (19, 22), (19, 21), (19, 20), (18, 20), (17, 20), (16, 20), (15, 20), (14, 20), (13, 20), (12, 20), (11, 20), (10, 20), (9, 20), (8, 20), (7, 20), (6, 20), (5, 20), (4, 20), (4, 19), (4, 18), (4, 17), (4, 16), (4, 15), (4, 14), (4, 13), (4, 12)]\n"
     ]
    },
    {
     "data": {
      "image/png": "[encoded data removed]",
      "text/plain": [
       "<Figure size 800x800 with 1 Axes>"
      ]
     },
     "metadata": {},
     "output_type": "display_data"
    },
    {
     "name": "stdout",
     "output_type": "stream",
     "text": [
      "[(22, 22), (21, 22), (20, 22), (19, 22), (19, 21), (19, 20), (18, 20), (17, 20), (16, 20), (15, 20), (14, 20), (13, 20), (12, 20), (11, 20), (10, 20), (9, 20), (8, 20), (7, 20), (6, 20), (5, 20), (4, 20), (4, 19), (4, 18), (4, 17), (4, 16), (4, 15), (4, 14), (4, 13), (4, 12)]\n"
     ]
    },
    {
     "data": {
      "image/png": "[encoded data removed]",
      "text/plain": [
       "<Figure size 800x800 with 1 Axes>"
      ]
     },
     "metadata": {},
     "output_type": "display_data"
    },
    {
     "name": "stdout",
     "output_type": "stream",
     "text": [
      "[(22, 22), (21, 22), (20, 22), (19, 22), (18, 22), (17, 22), (16, 22), (16, 21), (16, 20), (15, 20), (14, 20), (13, 20), (12, 20), (11, 20), (10, 20), (9, 20), (8, 20), (7, 20), (6, 20), (5, 20), (4, 20), (4, 19), (4, 18), (4, 17), (4, 16), (4, 15), (4, 14), (4, 13), (4, 12)]\n"
     ]
    },
    {
     "data": {
      "image/png": "[encoded data removed]",
      "text/plain": [
       "<Figure size 800x800 with 1 Axes>"
      ]
     },
     "metadata": {},
     "output_type": "display_data"
    },
    {
     "name": "stdout",
     "output_type": "stream",
     "text": [
      "[(22, 22), (21, 22), (20, 22), (19, 22), (18, 22), (17, 22), (16, 22), (16, 21), (16, 20), (15, 20), (14, 20), (13, 20), (12, 20), (11, 20), (10, 20), (9, 20), (8, 20), (7, 20), (6, 20), (5, 20), (4, 20), (4, 19), (4, 18), (4, 17), (4, 16), (4, 15), (4, 14), (4, 13), (4, 12)]\n"
     ]
    },
    {
     "data": {
      "image/png": "[encoded data removed]",
      "text/plain": [
       "<Figure size 800x800 with 1 Axes>"
      ]
     },
     "metadata": {},
     "output_type": "display_data"
    }
   ],
   "source": [
    "#A* Algorithm empleando Manhattan Distance y 0\n",
    "def plotting(heuristic, maze, path):\n",
    "    maze_array = np.array(maze)\n",
    "    fig, ax = plt.subplots(figsize=(8, 8))\n",
    "    ax.imshow(maze_array, cmap='Greys', interpolation='nearest')\n",
    "    start = path[0]\n",
    "    goal = path[-1]\n",
    "    ax.plot(start[1], start[0], \"ro\", markersize=10)  # Start rojo\n",
    "    ax.plot(goal[1], goal[0], \"gs\", markersize=10)  # Goal verde\n",
    "\n",
    "    for (y, x) in path:\n",
    "        ax.plot(x, y, \"bs\", markersize=5)\n",
    "    \n",
    "    ax.axis('off')\n",
    "    if heuristic == 1:\n",
    "        ax.set_title('Maze with Manhattan Distance Heuristic Path')\n",
    "    elif heuristic == 0:\n",
    "        ax.set_title('Maze with 0 Heuristic Path')\n",
    "    plt.show()\n",
    "\n",
    "\n",
    "astar = AStarSearch(discretized_matrix)\n",
    "# caminos usando heuristica Manhattan\n",
    "path1 = astar.search(1, (22,22), [(4, 12), (19, 2)])\n",
    "print(path1)\n",
    "plotting(1, discretized_matrix, path1)\n",
    "path2 = astar.search(1, (22,22), [(19, 2)])\n",
    "print(path1)\n",
    "plotting(1, discretized_matrix, path2)\n",
    "\n",
    "# caminos usando heuristica 0\n",
    "path1 = astar.search(0, (22,22), [(4, 12), (19, 2)])\n",
    "print(path1)\n",
    "plotting(0, discretized_matrix, path1)\n",
    "path2 = astar.search(0, (22,22), [(19, 2)])\n",
    "print(path1)\n",
    "plotting(0, discretized_matrix, path2)\n"
   ]
  },
  {
   "cell_type": "code",
   "execution_count": null,
   "metadata": {},
   "outputs": [],
   "source": []
  }
 ],
 "metadata": {
  "kernelspec": {
   "display_name": "Python 3 (ipykernel)",
   "language": "python",
   "name": "python3"
  },
  "language_info": {
   "codemirror_mode": {
    "name": "ipython",
    "version": 3
   },
   "file_extension": ".py",
   "mimetype": "text/x-python",
   "name": "python",
   "nbconvert_exporter": "python",
   "pygments_lexer": "ipython3",
   "version": "3.9.5"
  }
 },
 "nbformat": 4,
 "nbformat_minor": 4
}
