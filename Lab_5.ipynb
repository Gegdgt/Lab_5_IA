{
 "cells": [
  {
   "cell_type": "code",
   "execution_count": 27,
   "id": "c98dce31-e3b8-441d-b52c-9aaa336daa8a",
   "metadata": {},
   "outputs": [
    {
     "ename": "IndentationError",
     "evalue": "expected an indented block after 'elif' statement on line 35 (966558668.py, line 37)",
     "output_type": "error",
     "traceback": [
      "\u001b[1;36m  Cell \u001b[1;32mIn[27], line 37\u001b[1;36m\u001b[0m\n\u001b[1;33m    def plot_discretized_image(discretized_img):\u001b[0m\n\u001b[1;37m                                                ^\u001b[0m\n\u001b[1;31mIndentationError\u001b[0m\u001b[1;31m:\u001b[0m expected an indented block after 'elif' statement on line 35\n"
     ]
    }
   ],
   "source": [
    "import numpy as np\n",
    "import matplotlib.pyplot as plt\n",
    "from PIL import ImageOps\n",
    "\n",
    "def discretize_image(image_path, pixel_size):\n",
    "    image = Image.open(image_path)\n",
    "    image = image.convert('RGB')\n",
    "    \n",
    "    # Invertir los colores de la imagen\n",
    "    inverted_image = ImageOps.invert(image)\n",
    "    \n",
    "    image_array = np.array(inverted_image)\n",
    "    height, width, _ = image_array.shape\n",
    "    \n",
    "    # Redimensionar la imagen para que su tamaño sea un múltiplo del tamaño de píxel\n",
    "    height = height // pixel_size * pixel_size\n",
    "    width = width // pixel_size * pixel_size\n",
    "    image_array = image_array[:height, :width]\n",
    "    \n",
    "    discretized_height = height // pixel_size\n",
    "    discretized_width = width // pixel_size\n",
    "    discretized_img = np.zeros((discretized_height, discretized_width), dtype=np.uint8)\n",
    "    \n",
    "    for i in range(0, height, pixel_size):\n",
    "        for j in range(0, width, pixel_size):\n",
    "            region = image_array[i:i+pixel_size, j:j+pixel_size]\n",
    "            avg_pixel_value = np.mean(region)\n",
    "            \n",
    "            # Verifica si el píxel es negro (pared)\n",
    "            if avg_pixel_value < 128: # 128 es un umbral arbitrario para distinguir entre blanco y negro\n",
    "                discretized_img[i//pixel_size, j//pixel_size] = 1  # 1 representa una pared\n",
    "            else:\n",
    "                # Verifica si algún píxel en la región es verde (punto de fin)\n",
    "                if [16, 249, 17] in region.tolist():\n",
    "                    discretized_img[i//pixel_size, j//pixel_size] = 2  # 2 representa el punto de fin\n",
    "                # Verifica si algún píxel en la región es rojo (punto de inicio)\n",
    "                elif [252, 0, 0] in region.tolist():\n",
    "                    discretized_img[i//pixel_size, j//pixel_size] = 3  # 3 representa el punto de inicio\n",
    "                else:\n",
    "                    discretized_img[i//pixel_size, j//pixel_size] = 0  # 0 representa un camino libre\n",
    "    \n",
    "    return discretized_img\n",
    "    \n",
    "def plot_discretized_image(discretized_img):\n",
    "    plt.imshow(discretized_img, cmap='gray')\n",
    "    plt.axis('off')\n",
    "    plt.show()\n",
    "\n",
    "# Ruta de la imagen y tamaño de píxel deseado\n",
    "image_path = \"Test.bmp\"\n",
    "pixel_size = 10\n",
    "\n",
    "# Discretizar la imagen\n",
    "discretized_img = discretize_image(image_path, pixel_size)\n",
    "\n",
    "# Visualizar la imagen discretizada\n",
    "plot_discretized_image(discretized_img)\n"
   ]
  },
  {
   "cell_type": "code",
   "execution_count": null,
   "id": "94fbb9bf-60e5-4fa5-b95f-0bd825932725",
   "metadata": {},
   "outputs": [],
   "source": []
  }
 ],
 "metadata": {
  "kernelspec": {
   "display_name": "Python 3 (ipykernel)",
   "language": "python",
   "name": "python3"
  },
  "language_info": {
   "codemirror_mode": {
    "name": "ipython",
    "version": 3
   },
   "file_extension": ".py",
   "mimetype": "text/x-python",
   "name": "python",
   "nbconvert_exporter": "python",
   "pygments_lexer": "ipython3",
   "version": "3.10.2"
  }
 },
 "nbformat": 4,
 "nbformat_minor": 5
}
