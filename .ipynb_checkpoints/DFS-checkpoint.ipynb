{
 "cells": [
  {
   "cell_type": "markdown",
   "metadata": {},
   "source": [
    "# Task 1\n",
    "Construir un programa que reciba como entrada una imagen cuadrada que represente un laberinto. Deberá dibujar en pantalla la solución al mismo. Deberá considerar las siguientes restricciones:\n",
    "- Las dimensiones de entrada podrán variar entre ejecuciones (pero siempre será una imagen cuadrada)\n",
    "- Las áreas blancas representan caminos libres\n",
    "- Las áreas negras representan paredes sobre las cuales no se puede pasar\n",
    "- Las áreas verdes representan la meta (goalTest positivos) (pueden ser varios)\n",
    "- La área roja representa el punto de inicio (solo podrá haber uno)\n",
    "\n"
   ]
  },
  {
   "cell_type": "markdown",
   "metadata": {},
   "source": [
    "## Task 1.1 Discretización de la imagen"
   ]
  },
  {
   "cell_type": "code",
   "execution_count": 56,
   "metadata": {},
   "outputs": [
    {
     "data": {
      "image/png": "[encoded data removed]",
      "text/plain": [
       "<Figure size 640x480 with 1 Axes>"
      ]
     },
     "metadata": {},
     "output_type": "display_data"
    },
    {
     "name": "stdout",
     "output_type": "stream",
     "text": [
      "Matriz discretizada:\n",
      "[[1 1 1 ... 1 1 1]\n",
      " [1 1 1 ... 0 0 0]\n",
      " [1 1 1 ... 0 0 0]\n",
      " ...\n",
      " [1 1 1 ... 1 1 1]\n",
      " [1 1 1 ... 1 1 1]\n",
      " [1 0 0 ... 1 1 1]]\n",
      "Coordenadas del punto de inicio (rojo): (31, 31)\n",
      "Coordenadas de los puntos finales (verdes): [(6, 33), (15, 6)]\n"
     ]
    }
   ],
   "source": [
    "import numpy as np\n",
    "import matplotlib.pyplot as plt\n",
    "from PIL import Image\n",
    "\n",
    "def discretize_image_and_matrix(image_path, pixel_size):\n",
    "    # Abrir la imagen\n",
    "    image = Image.open(image_path)\n",
    "    image = image.convert('RGB')\n",
    "\n",
    "    # Convertir la imagen a un array numpy\n",
    "    image_array = np.array(image)\n",
    "    height, width, _ = image_array.shape\n",
    "\n",
    "    # Crear una nueva imagen con el tamaño adecuado para agregar el marco negro\n",
    "    padded_height = height + 2 * pixel_size\n",
    "    padded_width = width + 2 * pixel_size\n",
    "    padded_image_array = np.zeros((padded_height, padded_width, 3), dtype=np.uint8)\n",
    "\n",
    "    # Agregar el marco negro alrededor de la imagen original\n",
    "    padded_image_array[pixel_size:pixel_size + height, pixel_size:pixel_size + width, :] = image_array\n",
    "\n",
    "    # Ajustar las dimensiones de la imagen para que sean múltiplos de pixel_size\n",
    "    new_height = (padded_height // pixel_size) * pixel_size\n",
    "    new_width = (padded_width // pixel_size) * pixel_size\n",
    "    padded_image_array = padded_image_array[:new_height, :new_width]\n",
    "\n",
    "    discretized_height = new_height // pixel_size\n",
    "    discretized_width = new_width // pixel_size\n",
    "    discretized_img = np.zeros((discretized_height, discretized_width, 3), dtype=np.uint8)\n",
    "    discretized_matrix = np.zeros((discretized_height, discretized_width), dtype=np.uint8)\n",
    "\n",
    "    start_point = None\n",
    "    end_points = []\n",
    "\n",
    "    for i in range(0, new_height, pixel_size):\n",
    "        for j in range(0, new_width, pixel_size):\n",
    "            region = padded_image_array[i:i + pixel_size, j:j + pixel_size, :]\n",
    "\n",
    "            # Tomar el color del primer píxel de la región\n",
    "            pixel_color = region[pixel_size // 2, pixel_size // 2, :]\n",
    "            discretized_img[i // pixel_size, j // pixel_size, :] = pixel_color\n",
    "\n",
    "            # Identificar y cambiar píxeles grises a negro por su código RGB\n",
    "            if np.all(region[:, :, 0] >= 0) and np.all(region[:, :, 0] <= 225):\n",
    "                pixel_color = [0, 0, 0]  # Cambiar a color negro\n",
    "            \n",
    "            # Asignar valor a la matriz discretizada\n",
    "            if np.all(pixel_color == [0, 0, 0]):\n",
    "                discretized_matrix[i // pixel_size, j // pixel_size] = 1  # Representa una pared\n",
    "            elif np.all(pixel_color >= [0, 200, 0]) and np.all(pixel_color <= [50, 255, 50]):\n",
    "                discretized_matrix[i // pixel_size, j // pixel_size] = 0  # Representa el objetivo (verde)\n",
    "                end_points.append((i // pixel_size, j // pixel_size))  # Guardar coordenadas del punto final\n",
    "            elif np.all(pixel_color >= [220, 0, 0]) and np.all(pixel_color <= [255, 50, 50]):\n",
    "                discretized_matrix[i // pixel_size, j // pixel_size] = 0  # Representa el inicio (rojo)\n",
    "                start_point = (i // pixel_size, j // pixel_size)  # Guardar coordenadas del punto de inicio\n",
    "\n",
    "    return discretized_img, discretized_matrix, start_point, end_points\n",
    "\n",
    "def plot_discretized_image(discretized_img):\n",
    "    plt.imshow(discretized_img)\n",
    "    plt.axis('off')\n",
    "    plt.show()\n",
    "\n",
    "# Ruta de la imagen y tamaño de píxel deseado\n",
    "image_path = \"Test.bmp\"\n",
    "pixel_size = 15  # Ajusta el tamaño del píxel según sea necesario\n",
    "\n",
    "# Discretizar la imagen y obtener la matriz discretizada\n",
    "discretized_img, discretized_matrix, start_point, end_points = discretize_image_and_matrix(image_path, pixel_size)\n",
    "\n",
    "# Visualizar la imagen discretizada\n",
    "plot_discretized_image(discretized_img)\n",
    "\n",
    "# Mostrar la matriz discretizada\n",
    "print(\"Matriz discretizada:\")\n",
    "print(discretized_matrix)\n",
    "\n",
    "# Mostrar las coordenadas del punto de inicio (rojo) y de los puntos finales (verdes)\n",
    "print(\"Coordenadas del punto de inicio (rojo):\", start_point)\n",
    "print(\"Coordenadas de los puntos finales (verdes):\", end_points)\n"
   ]
  },
  {
   "cell_type": "markdown",
   "metadata": {},
   "source": [
    "## Task 1.2 Framework de Problemas\n",
    "Usar interfaz genérica o abstracta que sirva para representar el framework para definir el problema formal. Se debe utilizar la matriz obtenida del Task 1.1 y con esta deberá deducir las demás funciones del framework. (actions(s), stepCost(s,a,s), etc). Debe utilizar efectivamente los conceptos del paradigma POO. "
   ]
  },
  {
   "cell_type": "code",
   "execution_count": 58,
   "metadata": {},
   "outputs": [],
   "source": [
    "from abc import ABC, abstractmethod\n",
    "from typing import List, Tuple\n",
    "\n",
    "class SearchAlgorithm(ABC):\n",
    "    def __init__(self, maze: List[List[int]]):\n",
    "        self.maze = maze\n",
    "        self.rows = len(maze)\n",
    "        self.columns = len(maze[0]) if self.rows > 0 else 0\n",
    "\n",
    "    # Verifica si un movimiento es válido\n",
    "    def valid_move(self, position: Tuple[int, int]) -> bool:\n",
    "        row, column = position\n",
    "        if 0 <= row < self.rows and 0 <= column < self.columns:\n",
    "            return self.maze[row][column] == 0  # 0 representa un camino libre\n",
    "        return False\n",
    "    \n",
    "    @abstractmethod\n",
    "    def actions(self, position: Tuple[int, int]) -> List[Tuple[int, int]]:\n",
    "        pass\n",
    "    \n",
    "    @abstractmethod\n",
    "    def step_cost(self, current: Tuple[int, int], next: Tuple[int, int]) -> int:\n",
    "        pass\n",
    "    \n",
    "    @abstractmethod\n",
    "    def search(self, start: Tuple[int, int], goal: Tuple[int, int]) -> List[Tuple[int, int]]:\n",
    "        pass"
   ]
  },
  {
   "cell_type": "markdown",
   "metadata": {},
   "source": [
    "## Task 1.3 Graph-Search \n",
    "Construir el algoritmo genérico (familia de graphSearch). Este recibirá de parámetro una instancia del framework de problemas. Implemente los siguientes algoritmos:\n",
    "- Breadth First Search (BFS)\n",
    "- Depth First Search (DFS)\n",
    "- A* (escoger dos heurísticas, justificar elección)"
   ]
  },
  {
   "cell_type": "markdown",
   "metadata": {},
   "source": [
    "## TASK 1.3\n",
    "### Breadth First Search (BFS)"
   ]
  },
  {
   "cell_type": "code",
   "execution_count": null,
   "metadata": {},
   "outputs": [],
   "source": []
  },
  {
   "cell_type": "markdown",
   "metadata": {},
   "source": [
    "## TASK 1.3\n",
    "### Depth First Search (DFS)"
   ]
  },
  {
   "cell_type": "code",
   "execution_count": 62,
   "metadata": {},
   "outputs": [
    {
     "name": "stdout",
     "output_type": "stream",
     "text": [
      "Camino encontrado: [(31, 31), (31, 30), (31, 29), (31, 28), (31, 27), (32, 27), (32, 28), (32, 29), (32, 30), (32, 31), (33, 31), (33, 30), (33, 29), (33, 28), (33, 27), (33, 26), (33, 25), (33, 24), (33, 23), (33, 22), (33, 21), (33, 20), (33, 19), (33, 18), (33, 17), (33, 16), (33, 15), (33, 14), (33, 13), (33, 12), (33, 11), (33, 10), (33, 9), (34, 9), (34, 10), (34, 11), (34, 12), (34, 13), (34, 14), (34, 15), (34, 16), (34, 17), (34, 18), (34, 19), (34, 20), (34, 21), (34, 22), (34, 23), (34, 24), (34, 25), (34, 26), (34, 27), (34, 28), (34, 29), (34, 30), (34, 31), (35, 31), (35, 30), (35, 29), (35, 28), (35, 27), (35, 26), (35, 25), (36, 25), (36, 26), (36, 27), (36, 28), (36, 29), (36, 30), (36, 31), (37, 31), (37, 30), (37, 29), (37, 28), (37, 27), (37, 26), (37, 25), (38, 26), (38, 27), (38, 28), (38, 29), (38, 30), (38, 31), (39, 31), (39, 30), (39, 29), (39, 28), (39, 27), (39, 26), (35, 18), (35, 17), (35, 16), (35, 15), (35, 14), (35, 13), (35, 12), (35, 11), (35, 10), (35, 9), (36, 9), (36, 10), (36, 11), (36, 12), (36, 13), (36, 14), (36, 15), (36, 16), (36, 17), (37, 17), (37, 16), (37, 15), (37, 14), (37, 13), (37, 12), (37, 11), (37, 10), (37, 9), (37, 8), (37, 7), (38, 7), (38, 8), (38, 9), (38, 10), (38, 11), (38, 12), (38, 13), (38, 14), (38, 15), (38, 16), (38, 17), (39, 17), (39, 16), (39, 15), (39, 14), (39, 13), (39, 12), (39, 11), (39, 10), (39, 9), (39, 8), (39, 7), (39, 6), (39, 5), (39, 4), (39, 3), (39, 2), (39, 1), (38, 3), (38, 4), (38, 5), (38, 6), (32, 9), (32, 10), (32, 8), (32, 12), (32, 14), (32, 17), (32, 18), (32, 19), (32, 20), (32, 21), (32, 22), (32, 23), (32, 24), (32, 25), (32, 26), (31, 22), (31, 21), (31, 20), (31, 19), (30, 19), (30, 20), (30, 21), (29, 21), (29, 20), (29, 19), (28, 19), (28, 20), (28, 21), (27, 21), (27, 22), (27, 23), (27, 24), (27, 25), (27, 26), (27, 27), (27, 28), (27, 29), (27, 30), (27, 31), (28, 31), (28, 30), (28, 29), (28, 28), (28, 27), (29, 27), (29, 28), (29, 29), (29, 30), (29, 31), (30, 31), (30, 30), (30, 29), (30, 28), (30, 27), (26, 31), (26, 30), (26, 29), (26, 28), (26, 27), (26, 26), (26, 25), (26, 24), (26, 23), (26, 22), (26, 21), (26, 20), (26, 19), (26, 18), (27, 18), (27, 19), (27, 20), (25, 18), (25, 19), (25, 20), (25, 21), (25, 22), (25, 23), (25, 24), (25, 25), (25, 26), (25, 27), (25, 28), (25, 29), (25, 30), (25, 31), (25, 32), (24, 24), (24, 23), (24, 22), (24, 21), (24, 20), (24, 19), (24, 18), (23, 18), (23, 19), (23, 20), (23, 21), (23, 22), (23, 23), (23, 24), (22, 24), (22, 25), (21, 25), (21, 24), (21, 23), (21, 22), (21, 21), (21, 20), (21, 19), (21, 18), (21, 17), (21, 16), (21, 15), (21, 14), (21, 13), (21, 12), (21, 11), (21, 10), (21, 9), (21, 8), (21, 7), (21, 6), (22, 6), (22, 7), (22, 8), (22, 9), (22, 10), (22, 11), (22, 12), (23, 12), (23, 11), (23, 10), (23, 9), (24, 10), (24, 11), (24, 12), (25, 12), (25, 11), (25, 10), (26, 10), (26, 11), (26, 12), (26, 13), (20, 6), (20, 7), (20, 8), (20, 9), (20, 10), (20, 11), (20, 12), (20, 13), (20, 14), (20, 15), (20, 16), (20, 17), (20, 18), (20, 19), (20, 20), (19, 18), (19, 17), (19, 16), (19, 15), (19, 14), (19, 13), (19, 12), (19, 11), (18, 12), (18, 13), (18, 14), (18, 15), (18, 16), (17, 16), (17, 15), (17, 14), (17, 13), (17, 12), (16, 12), (16, 13), (16, 14), (16, 15), (16, 16), (15, 16), (15, 15), (15, 14), (15, 13), (15, 12), (15, 11), (15, 10), (15, 9), (15, 8), (15, 7), (15, 6), (15, 5), (15, 4), (15, 3), (15, 2), (15, 1), (16, 1), (16, 2), (16, 3), (16, 4), (16, 5), (16, 6), (16, 7), (16, 8), (16, 9), (17, 8), (17, 7), (17, 6), (17, 5), (18, 5), (18, 6), (18, 7), (18, 8), (19, 8), (19, 9), (19, 7), (19, 6), (19, 5), (19, 4), (19, 3), (19, 2), (19, 1), (20, 1), (20, 2), (20, 3), (20, 4), (20, 5), (14, 1), (14, 2), (14, 3), (14, 4), (14, 5), (14, 6), (14, 7), (14, 8), (14, 9), (14, 10), (14, 11), (14, 12), (14, 13), (14, 14), (14, 15), (14, 16), (13, 16), (13, 15), (13, 14), (13, 13), (12, 13), (12, 14), (12, 15), (12, 16), (12, 17), (12, 18), (12, 19), (12, 20), (12, 21), (13, 21), (13, 22), (14, 22), (14, 23), (14, 24), (14, 25), (14, 26), (14, 27), (14, 28), (14, 29), (14, 30), (14, 31), (14, 32), (14, 33), (14, 34), (14, 35), (14, 36), (14, 37), (14, 38), (14, 39), (15, 39), (15, 38), (15, 37), (15, 36), (15, 35), (15, 34), (15, 33), (15, 32), (15, 31), (15, 30), (15, 29), (15, 28), (15, 27), (15, 26), (15, 25), (15, 24), (15, 23), (15, 22), (15, 21), (14, 21), (14, 20), (13, 20), (13, 19), (13, 18), (16, 22), (16, 23), (16, 24), (16, 25), (16, 26), (16, 27), (16, 28), (16, 29), (16, 30), (16, 31), (16, 32), (16, 33), (16, 34), (16, 35), (16, 36), (16, 37), (16, 38), (16, 39), (17, 39), (17, 38), (17, 37), (17, 36), (17, 35), (17, 34), (17, 33), (17, 32), (17, 31), (17, 30), (17, 29), (17, 28), (17, 27), (17, 26), (17, 25), (17, 24), (18, 26), (18, 27), (18, 28), (18, 29), (18, 30), (18, 31), (18, 32), (18, 33), (18, 34), (18, 35), (18, 36), (18, 37), (18, 38), (18, 39), (19, 39), (19, 38), (19, 37), (19, 36), (20, 36), (20, 37), (20, 38), (20, 39), (21, 39), (21, 38), (21, 37), (21, 36), (22, 36), (22, 37), (22, 38), (22, 39), (23, 39), (23, 38), (23, 37), (23, 36), (24, 36), (24, 37), (24, 38), (24, 39), (19, 28), (19, 27), (19, 26), (19, 25), (20, 25), (20, 26), (20, 24), (13, 39), (13, 38), (13, 37), (13, 36), (13, 35), (13, 34), (13, 33), (13, 32), (13, 31), (13, 30), (13, 29), (12, 29), (12, 30), (12, 31), (12, 32), (12, 33), (12, 34), (12, 35), (12, 36), (12, 37), (12, 38), (12, 39), (11, 33), (11, 32), (11, 31), (11, 30), (11, 29), (10, 29), (10, 30), (10, 31), (10, 32), (10, 33), (9, 33), (9, 32), (9, 31), (9, 30), (9, 29), (8, 29), (8, 30), (8, 31), (8, 32), (8, 33), (8, 34), (8, 35), (8, 36), (8, 37), (8, 38), (8, 39), (7, 39), (7, 38), (7, 37), (7, 36), (7, 35), (7, 34), (7, 33), (7, 32), (7, 31), (7, 30), (7, 29), (6, 29), (6, 30), (6, 31), (6, 32), (6, 33)]\n"
     ]
    }
   ],
   "source": [
    "class DFSAlgorithm(SearchAlgorithm):\n",
    "    def __init__(self, maze: List[List[int]]):\n",
    "        super().__init__(maze)\n",
    "    \n",
    "    def actions(self, position: Tuple[int, int]) -> List[Tuple[int, int]]:\n",
    "        row, col = position\n",
    "        possible_actions = [(row-1, col), (row+1, col), (row, col-1), (row, col+1)]\n",
    "        valid_actions = [action for action in possible_actions if self.valid_move(action)]\n",
    "        return valid_actions\n",
    "    \n",
    "    def step_cost(self, current: Tuple[int, int], next: Tuple[int, int]) -> int:\n",
    "        return 1\n",
    "    \n",
    "    def search(self, start: Tuple[int, int], goal: Tuple[int, int], max_depth: int = float('inf')) -> List[Tuple[int, int]]:\n",
    "        visited = set()\n",
    "        path = []\n",
    "        stack = [(start, 0)]\n",
    "\n",
    "        while stack:\n",
    "            current, depth = stack.pop()\n",
    "            if current == goal:\n",
    "                path.append(current)\n",
    "                return path\n",
    "\n",
    "            if depth < max_depth:\n",
    "                if current not in visited:\n",
    "                    visited.add(current)\n",
    "                    path.append(current)\n",
    "\n",
    "                    possible_actions = self.actions(current)\n",
    "                    stack.extend([(next_action, depth + 1) for next_action in possible_actions])\n",
    "\n",
    "        return []\n",
    "        \n",
    "dfs_algorithm = DFSAlgorithm(discretized_matrix)\n",
    "\n",
    "result_path = dfs_algorithm.search(start_point, end_points[0])\n",
    "\n",
    "print(\"Camino encontrado:\", result_path)"
   ]
  },
  {
   "cell_type": "markdown",
   "metadata": {},
   "source": [
    "## TASK 1.3\n",
    "### A* "
   ]
  },
  {
   "cell_type": "code",
   "execution_count": 6,
   "metadata": {},
   "outputs": [
    {
     "ename": "TypeError",
     "evalue": "Can't instantiate abstract class AStarSearch with abstract method step_cost",
     "output_type": "error",
     "traceback": [
      "\u001b[1;31m---------------------------------------------------------------------------\u001b[0m",
      "\u001b[1;31mTypeError\u001b[0m                                 Traceback (most recent call last)",
      "Cell \u001b[1;32mIn[6], line 42\u001b[0m\n\u001b[0;32m     39\u001b[0m                     came_from[\u001b[38;5;28mnext\u001b[39m] \u001b[38;5;241m=\u001b[39m current\n\u001b[0;32m     41\u001b[0m         \u001b[38;5;28;01mreturn\u001b[39;00m \u001b[38;5;28;01mNone\u001b[39;00m \n\u001b[1;32m---> 42\u001b[0m astar \u001b[38;5;241m=\u001b[39m \u001b[43mAStarSearch\u001b[49m\u001b[43m(\u001b[49m\u001b[43mdiscretized_matrix\u001b[49m\u001b[43m)\u001b[49m\n\u001b[0;32m     43\u001b[0m \u001b[38;5;28mprint\u001b[39m(astar\u001b[38;5;241m.\u001b[39msearch((\u001b[38;5;241m22\u001b[39m,\u001b[38;5;241m22\u001b[39m), [(\u001b[38;5;241m4\u001b[39m, \u001b[38;5;241m12\u001b[39m), (\u001b[38;5;241m9\u001b[39m, \u001b[38;5;241m2\u001b[39m)]))\n",
      "\u001b[1;31mTypeError\u001b[0m: Can't instantiate abstract class AStarSearch with abstract method step_cost"
     ]
    }
   ],
   "source": [
    "# Incluir ambas heurísticas aquí\n",
    "import heapq\n",
    "\n",
    "class AStarSearch(SearchAlgorithm):\n",
    "    def actions(self, position: Tuple[int, int]) -> List[Tuple[int, int]]:\n",
    "        # Define potential moves: Right, Down, Left, Up\n",
    "        potential_moves = [(0, 1), (1, 0), (0, -1), (-1, 0)]\n",
    "        # Return only valid moves based on is_valid_move\n",
    "        return [(position[0] + move[0], position[1] + move[1]) for move in potential_moves if self.is_valid_move((position[0] + move[0], position[1] + move[1]))]\n",
    "    \n",
    "\n",
    "    # Distancia de Manhattan\n",
    "    def heuristic(self, current: Tuple[int, int], goal: Tuple[int, int]) -> int:\n",
    "        return abs(current[0] - goal[0]) + abs(current[1] - goal[1])\n",
    "\n",
    "\n",
    "    def search(self, start: Tuple[int, int], goal: List[Tuple[int, int]]) -> List[Tuple[int, int]]:\n",
    "        frontier = []\n",
    "        heapq.heappush(frontier, (0 + self.heuristic(start, goal), 0, start))  \n",
    "        came_from = {start: None}\n",
    "        cost_so_far = {start: 0}\n",
    "\n",
    "        while frontier:\n",
    "            current_f, current_g, current = heapq.heappop(frontier)\n",
    "\n",
    "            if current == goal:\n",
    "                path = []\n",
    "                while current in came_from:\n",
    "                    path.append(current)\n",
    "                    current = came_from[current]\n",
    "                return path[::-1]  # Reverse path\n",
    "\n",
    "            for next in self.actions(current):\n",
    "                new_cost = cost_so_far[current] + 1  # asumiendo el costo es 1\n",
    "                if next not in cost_so_far or new_cost < cost_so_far[next]:\n",
    "                    cost_so_far[next] = new_cost\n",
    "                    priority = new_cost + self.heuristic(next, goal)\n",
    "                    heapq.heappush(frontier, (priority, new_cost, next))\n",
    "                    came_from[next] = current\n",
    "\n",
    "        return None \n",
    "astar = AStarSearch(discretized_matrix)\n",
    "print(astar.search((22,22), [(4, 12), (9, 2)]))\n"
   ]
  },
  {
   "cell_type": "markdown",
   "metadata": {},
   "source": [
    "## TASK 1.4\n",
    "Resolver el laberinto de entrada y mostrar en pantalla gráficamente el camino encontrado. **Su representación se basará en la matriz discreta, no en la imagen original.**  "
   ]
  },
  {
   "cell_type": "markdown",
   "metadata": {},
   "source": [
    "### TASK 1.3\n",
    "#### Depth First Search (DFS)"
   ]
  },
  {
   "cell_type": "code",
   "execution_count": 61,
   "metadata": {},
   "outputs": [
    {
     "name": "stdout",
     "output_type": "stream",
     "text": [
      "Camino encontrado: [(31, 31), (31, 30), (31, 29), (31, 28), (31, 27), (32, 27), (32, 28), (32, 29), (32, 30), (32, 31), (33, 31), (33, 30), (33, 29), (33, 28), (33, 27), (33, 26), (33, 25), (33, 24), (33, 23), (33, 22), (33, 21), (33, 20), (33, 19), (33, 18), (33, 17), (33, 16), (33, 15), (33, 14), (33, 13), (33, 12), (33, 11), (33, 10), (33, 9), (34, 9), (34, 10), (34, 11), (34, 12), (34, 13), (34, 14), (34, 15), (34, 16), (34, 17), (34, 18), (34, 19), (34, 20), (34, 21), (34, 22), (34, 23), (34, 24), (34, 25), (34, 26), (34, 27), (34, 28), (34, 29), (34, 30), (34, 31), (35, 31), (35, 30), (35, 29), (35, 28), (35, 27), (35, 26), (35, 25), (36, 25), (36, 26), (36, 27), (36, 28), (36, 29), (36, 30), (36, 31), (37, 31), (37, 30), (37, 29), (37, 28), (37, 27), (37, 26), (37, 25), (38, 26), (38, 27), (38, 28), (38, 29), (38, 30), (38, 31), (39, 31), (39, 30), (39, 29), (39, 28), (39, 27), (39, 26), (35, 18), (35, 17), (35, 16), (35, 15), (35, 14), (35, 13), (35, 12), (35, 11), (35, 10), (35, 9), (36, 9), (36, 10), (36, 11), (36, 12), (36, 13), (36, 14), (36, 15), (36, 16), (36, 17), (37, 17), (37, 16), (37, 15), (37, 14), (37, 13), (37, 12), (37, 11), (37, 10), (37, 9), (37, 8), (37, 7), (38, 7), (38, 8), (38, 9), (38, 10), (38, 11), (38, 12), (38, 13), (38, 14), (38, 15), (38, 16), (38, 17), (39, 17), (39, 16), (39, 15), (39, 14), (39, 13), (39, 12), (39, 11), (39, 10), (39, 9), (39, 8), (39, 7), (39, 6), (39, 5), (39, 4), (39, 3), (39, 2), (39, 1), (38, 3), (38, 4), (38, 5), (38, 6), (32, 9), (32, 10), (32, 8), (32, 12), (32, 14), (32, 17), (32, 18), (32, 19), (32, 20), (32, 21), (32, 22), (32, 23), (32, 24), (32, 25), (32, 26), (31, 22), (31, 21), (31, 20), (31, 19), (30, 19), (30, 20), (30, 21), (29, 21), (29, 20), (29, 19), (28, 19), (28, 20), (28, 21), (27, 21), (27, 22), (27, 23), (27, 24), (27, 25), (27, 26), (27, 27), (27, 28), (27, 29), (27, 30), (27, 31), (28, 31), (28, 30), (28, 29), (28, 28), (28, 27), (29, 27), (29, 28), (29, 29), (29, 30), (29, 31), (30, 31), (30, 30), (30, 29), (30, 28), (30, 27), (26, 31), (26, 30), (26, 29), (26, 28), (26, 27), (26, 26), (26, 25), (26, 24), (26, 23), (26, 22), (26, 21), (26, 20), (26, 19), (26, 18), (27, 18), (27, 19), (27, 20), (25, 18), (25, 19), (25, 20), (25, 21), (25, 22), (25, 23), (25, 24), (25, 25), (25, 26), (25, 27), (25, 28), (25, 29), (25, 30), (25, 31), (25, 32), (24, 24), (24, 23), (24, 22), (24, 21), (24, 20), (24, 19), (24, 18), (23, 18), (23, 19), (23, 20), (23, 21), (23, 22), (23, 23), (23, 24), (22, 24), (22, 25), (21, 25), (21, 24), (21, 23), (21, 22), (21, 21), (21, 20), (21, 19), (21, 18), (21, 17), (21, 16), (21, 15), (21, 14), (21, 13), (21, 12), (21, 11), (21, 10), (21, 9), (21, 8), (21, 7), (21, 6), (22, 6), (22, 7), (22, 8), (22, 9), (22, 10), (22, 11), (22, 12), (23, 12), (23, 11), (23, 10), (23, 9), (24, 10), (24, 11), (24, 12), (25, 12), (25, 11), (25, 10), (26, 10), (26, 11), (26, 12), (26, 13), (20, 6), (20, 7), (20, 8), (20, 9), (20, 10), (20, 11), (20, 12), (20, 13), (20, 14), (20, 15), (20, 16), (20, 17), (20, 18), (20, 19), (20, 20), (19, 18), (19, 17), (19, 16), (19, 15), (19, 14), (19, 13), (19, 12), (19, 11), (18, 12), (18, 13), (18, 14), (18, 15), (18, 16), (17, 16), (17, 15), (17, 14), (17, 13), (17, 12), (16, 12), (16, 13), (16, 14), (16, 15), (16, 16), (15, 16), (15, 15), (15, 14), (15, 13), (15, 12), (15, 11), (15, 10), (15, 9), (15, 8), (15, 7), (15, 6)]\n"
     ]
    },
    {
     "data": {
      "image/png": "[encoded data removed]",
      "text/plain": [
       "<Figure size 640x480 with 1 Axes>"
      ]
     },
     "metadata": {},
     "output_type": "display_data"
    }
   ],
   "source": [
    "def plotWithPath(discretized_img, result_path):\n",
    "    # Crear una copia de la imagen discretizada para no modificar la original\n",
    "    img_with_path = np.copy(discretized_img)\n",
    "\n",
    "    # Resaltar el camino en la copia de la imagen\n",
    "    for point in result_path:\n",
    "        y, x = point\n",
    "        img_with_path[y, x, :] = [14, 25, 60]  # Resaltar el camino en rojo\n",
    "\n",
    "    plt.imshow(img_with_path)\n",
    "    plt.axis('off')\n",
    "    plt.show()\n",
    "\n",
    "# Crear una instancia de DFSAlgorithm y ejecutar la búsqueda\n",
    "dfs_algorithm = DFSAlgorithm(discretized_matrix)\n",
    "\n",
    "result_path = dfs_algorithm.search(start_point, end_points[1])\n",
    "\n",
    "print(\"Camino encontrado:\", result_path)\n",
    "\n",
    "# Visualizar la imagen discretizada con el camino resultante\n",
    "plotWithPath(discretized_img, result_path)"
   ]
  },
  {
   "cell_type": "code",
   "execution_count": null,
   "metadata": {},
   "outputs": [],
   "source": []
  }
 ],
 "metadata": {
  "kernelspec": {
   "display_name": "Python 3 (ipykernel)",
   "language": "python",
   "name": "python3"
  },
  "language_info": {
   "codemirror_mode": {
    "name": "ipython",
    "version": 3
   },
   "file_extension": ".py",
   "mimetype": "text/x-python",
   "name": "python",
   "nbconvert_exporter": "python",
   "pygments_lexer": "ipython3",
   "version": "3.9.5"
  }
 },
 "nbformat": 4,
 "nbformat_minor": 4
}
