{
 "cells": [
  {
   "cell_type": "code",
   "execution_count": 133,
   "id": "c98dce31-e3b8-441d-b52c-9aaa336daa8a",
   "metadata": {},
   "outputs": [
    {
     "data": {
      "image/png": "[encoded data removed]",
      "text/plain": [
       "<Figure size 640x480 with 1 Axes>"
      ]
     },
     "metadata": {},
     "output_type": "display_data"
    }
   ],
   "source": [
    "import numpy as np\n",
    "import matplotlib.pyplot as plt\n",
    "from PIL import Image\n",
    "\n",
    "def discretize_image(image_path, pixel_size):\n",
    "    image = Image.open(image_path)\n",
    "    image = image.convert('RGB')\n",
    "\n",
    "    image_array = np.array(image)\n",
    "    height, width, _ = image_array.shape\n",
    "\n",
    "    # Redimensionar la imagen\n",
    "    height = height // pixel_size * pixel_size\n",
    "    width = width // pixel_size * pixel_size\n",
    "    image_array = image_array[:height, :width]\n",
    "\n",
    "    discretized_height = height // pixel_size\n",
    "    discretized_width = width // pixel_size\n",
    "    discretized_img = np.zeros((discretized_height, discretized_width, 3), dtype=np.uint8)\n",
    "\n",
    "    for i in range(0, height, pixel_size):\n",
    "        for j in range(0, width, pixel_size):\n",
    "            region = image_array[i:i+pixel_size, j:j+pixel_size, :]\n",
    "            \n",
    "            # Tomar el color del primer píxel de la región\n",
    "            discretized_img[i//pixel_size, j//pixel_size, :] = region[0, 0, :]\n",
    "\n",
    "            # Identificar y cambiar píxeles grises a negro por su código RGB\n",
    "            if np.all(region[0, 0, :] >= 0) and np.all(region[0, 0, :] <= 225):\n",
    "                discretized_img[i//pixel_size, j//pixel_size, :] = [0, 0, 0]  # Cambiar a color negro\n",
    "\n",
    "    return discretized_img\n",
    "\n",
    "def plot_discretized_image(discretized_img):\n",
    "    plt.imshow(discretized_img)\n",
    "    plt.axis('off')\n",
    "    plt.show()\n",
    "\n",
    "# Ruta de la imagen y tamaño de píxel deseado\n",
    "image_path = \"Test.bmp\"\n",
    "pixel_size = 5  # Ajusta el tamaño del píxel según sea necesario\n",
    "\n",
    "# Discretizar la imagen\n",
    "discretized_img = discretize_image(image_path, pixel_size)\n",
    "print(discretized_img)\n",
    "\n",
    "# Visualizar la imagen discretizada\n",
    "plot_discretized_image(discretized_img)\n"
   ]
  },
  {
   "cell_type": "code",
   "execution_count": null,
   "id": "94fbb9bf-60e5-4fa5-b95f-0bd825932725",
   "metadata": {},
   "outputs": [],
   "source": []
  }
 ],
 "metadata": {
  "kernelspec": {
   "display_name": "Python 3 (ipykernel)",
   "language": "python",
   "name": "python3"
  },
  "language_info": {
   "codemirror_mode": {
    "name": "ipython",
    "version": 3
   },
   "file_extension": ".py",
   "mimetype": "text/x-python",
   "name": "python",
   "nbconvert_exporter": "python",
   "pygments_lexer": "ipython3",
   "version": "3.9.5"
  }
 },
 "nbformat": 4,
 "nbformat_minor": 5
}
