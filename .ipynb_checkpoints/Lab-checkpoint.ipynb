{
 "cells": [
  {
   "cell_type": "markdown",
   "metadata": {},
   "source": [
    "# Task 1\n",
    "Construir un programa que reciba como entrada una imagen cuadrada que represente un laberinto. Deberá dibujar en pantalla la solución al mismo. Deberá considerar las siguientes restricciones:\n",
    "- Las dimensiones de entrada podrán variar entre ejecuciones (pero siempre será una imagen cuadrada)\n",
    "- Las áreas blancas representan caminos libres\n",
    "- Las áreas negras representan paredes sobre las cuales no se puede pasar\n",
    "- Las áreas verdes representan la meta (goalTest positivos) (pueden ser varios)\n",
    "- La área roja representa el punto de inicio (solo podrá haber uno)\n",
    "\n"
   ]
  },
  {
   "cell_type": "markdown",
   "metadata": {},
   "source": [
    "## Task 1.1 Discretización de la imagen"
   ]
  },
  {
   "cell_type": "code",
   "execution_count": 3,
   "metadata": {},
   "outputs": [
    {
     "name": "stdout",
     "output_type": "stream",
     "text": [
      "[[[255 255 255]\n",
      "  [  0   0   0]\n",
      "  [  0   0   0]\n",
      "  ...\n",
      "  [  0   0   0]\n",
      "  [  0   0   0]\n",
      "  [  0   0   0]]\n",
      "\n",
      " [[239 239 239]\n",
      "  [  0   0   0]\n",
      "  [  0   0   0]\n",
      "  ...\n",
      "  [255 255 255]\n",
      "  [255 255 255]\n",
      "  [255 255 255]]\n",
      "\n",
      " [[239 239 239]\n",
      "  [  0   0   0]\n",
      "  [  0   0   0]\n",
      "  ...\n",
      "  [255 255 255]\n",
      "  [255 255 255]\n",
      "  [255 255 255]]\n",
      "\n",
      " ...\n",
      "\n",
      " [[239 239 239]\n",
      "  [  0   0   0]\n",
      "  [  0   0   0]\n",
      "  ...\n",
      "  [  0   0   0]\n",
      "  [  0   0   0]\n",
      "  [  0   0   0]]\n",
      "\n",
      " [[239 239 239]\n",
      "  [  0   0   0]\n",
      "  [  0   0   0]\n",
      "  ...\n",
      "  [  0   0   0]\n",
      "  [  0   0   0]\n",
      "  [  0   0   0]]\n",
      "\n",
      " [[239 239 239]\n",
      "  [248 248 248]\n",
      "  [255 255 255]\n",
      "  ...\n",
      "  [  0   0   0]\n",
      "  [  0   0   0]\n",
      "  [  0   0   0]]]\n"
     ]
    },
    {
     "data": {
      "image/png": "[encoded data removed]",
      "text/plain": [
       "<Figure size 640x480 with 1 Axes>"
      ]
     },
     "metadata": {},
     "output_type": "display_data"
    }
   ],
   "source": [
    "import numpy as np\n",
    "import matplotlib.pyplot as plt\n",
    "from PIL import Image\n",
    "\n",
    "def discretize_image_and_matrix(image_path, pixel_size):\n",
    "    # Abrir la imagen\n",
    "    image = Image.open(image_path)\n",
    "    image = image.convert('RGB')\n",
    "\n",
    "    # Convertir la imagen a un array numpy\n",
    "    image_array = np.array(image)\n",
    "    height, width, _ = image_array.shape\n",
    "\n",
    "    # Crear una nueva imagen con el tamaño adecuado para agregar el marco negro\n",
    "    padded_height = height + 2 * pixel_size\n",
    "    padded_width = width + 2 * pixel_size\n",
    "    padded_image_array = np.zeros((padded_height, padded_width, 3), dtype=np.uint8)\n",
    "\n",
    "    # Agregar el marco negro alrededor de la imagen original\n",
    "    padded_image_array[pixel_size:pixel_size + height, pixel_size:pixel_size + width, :] = image_array\n",
    "\n",
    "    # Ajustar las dimensiones de la imagen para que sean múltiplos de pixel_size\n",
    "    new_height = (padded_height // pixel_size) * pixel_size\n",
    "    new_width = (padded_width // pixel_size) * pixel_size\n",
    "    padded_image_array = padded_image_array[:new_height, :new_width]\n",
    "\n",
    "    discretized_height = new_height // pixel_size\n",
    "    discretized_width = new_width // pixel_size\n",
    "    discretized_img = np.zeros((discretized_height, discretized_width, 3), dtype=np.uint8)\n",
    "    discretized_matrix = np.zeros((discretized_height, discretized_width), dtype=np.uint8)\n",
    "\n",
    "    start_point = None\n",
    "    end_points = []\n",
    "\n",
    "    for i in range(0, new_height, pixel_size):\n",
    "        for j in range(0, new_width, pixel_size):\n",
    "            region = padded_image_array[i:i + pixel_size, j:j + pixel_size, :]\n",
    "\n",
    "            # Tomar el color del primer píxel de la región\n",
    "            pixel_color = region[pixel_size // 2, pixel_size // 2, :]\n",
    "            discretized_img[i // pixel_size, j // pixel_size, :] = pixel_color\n",
    "\n",
    "            # Identificar y cambiar píxeles grises a negro por su código RGB\n",
    "            if np.all(region[:, :, 0] >= 0) and np.all(region[:, :, 0] <= 225):\n",
    "                pixel_color = [0, 0, 0]  # Cambiar a color negro\n",
    "\n",
    "            # Asignar valor a la matriz discretizada\n",
    "            if np.all(pixel_color == [0, 0, 0]):\n",
    "                discretized_matrix[i // pixel_size, j // pixel_size] = 1  # Representa una pared\n",
    "            elif np.all(pixel_color == [0, 255, 0]):\n",
    "                discretized_matrix[i // pixel_size, j // pixel_size] = 2  # Representa el objetivo (verde)\n",
    "                end_points.append((i // pixel_size, j // pixel_size))\n",
    "            elif np.all(pixel_color == [255, 0, 0]):\n",
    "                discretized_matrix[i // pixel_size, j // pixel_size] = 3  # Representa el inicio (rojo)\n",
    "                start_point = (i // pixel_size, j // pixel_size)\n",
    "\n",
    "    return discretized_img, discretized_matrix, start_point, end_points\n",
    "\n",
    "def plot_discretized_image(discretized_img):\n",
    "    plt.imshow(discretized_img)\n",
    "    plt.axis('off')\n",
    "    plt.show()\n",
    "\n",
    "# Ruta de la imagen y tamaño de píxel deseado\n",
    "image_path = \"Test2.bmp\"\n",
    "pixel_size = 20  # Ajusta el tamaño del píxel según sea necesario\n",
    "\n",
    "# Discretizar la imagen y obtener la matriz discretizada\n",
    "discretized_img, discretized_matrix, start_point, end_points = discretize_image_and_matrix(image_path, pixel_size)\n",
    "\n",
    "# Visualizar la imagen discretizada\n",
    "plot_discretized_image(discretized_img)\n",
    "\n",
    "# Mostrar la matriz discretizada\n",
    "print(\"Matriz discretizada:\")\n",
    "print(discretized_matrix)\n",
    "\n",
    "# Mostrar las coordenadas del punto de inicio y los puntos finales\n",
    "print(\"Coordenadas del punto de inicio (rojo):\", start_point)\n",
    "print(\"Coordenadas de los puntos finales (verdes):\", end_points)\n"
   ]
  },
  {
   "cell_type": "markdown",
   "metadata": {},
   "source": [
    "## Task 1.2 Framework de Problemas\n",
    "Usar interfaz genérica o abstracta que sirva para representar el framework para definir el problema formal. Se debe utilizar la matriz obtenida del Task 1.1 y con esta deberá deducir las demás funciones del framework. (actions(s), stepCost(s,a,s), etc). Debe utilizar efectivamente los conceptos del paradigma POO. "
   ]
  },
  {
   "cell_type": "code",
   "execution_count": null,
   "metadata": {},
   "outputs": [],
   "source": [
    "from abc import ABC, abstractmethod\n",
    "from typing import List, Tuple\n",
    "\n",
    "class SearchAlgorithm(ABC):\n",
    "    def __init__(self, maze: List[List[List[int]]]):\n",
    "        self.maze = maze\n",
    "        self.rows = len(maze)\n",
    "        self.columns = len([0]) if self.rows > 0 else 0\n",
    "\n",
    "    # chequea si un movimiento es válido \n",
    "    def valid_move(self, position : Tuple[int, int]) -> bool:\n",
    "        row, column = position\n",
    "        if 0 <= row < self.rows and 0 <= column < self.columns:\n",
    "            return self.maze[row][column] == [255,255,255]\n",
    "        return False\n",
    "    \n",
    "    # define las acciones que se pueden hacer dada una posición específica \n",
    "    def actions(self, position: Tuple[int, int]) -> List[Tuple[int, int]]:\n",
    "        posible_moves = [(0,1), (1,0), (0,-1), (-1, 0)]\n",
    "        valid_moves = []\n",
    "        for move in posible_moves:\n",
    "            new_position = (position[0] + move[0], position[1] + move[1])\n",
    "            if self.valid_move(new_position):\n",
    "                valid_moves.append(new_position)\n",
    "        return valid_moves\n",
    "    \n",
    "    @abstractmethod\n",
    "    def stepCost(self, current: Tuple[int, int], next: Tuple[int, int]) -> int:\n",
    "        pass\n",
    "    \n",
    "    @abstractmethod\n",
    "    def search(self, start: Tuple[int, int], goal: Tuple[int, int]) -> List[Tuple[int, int]]:\n",
    "        pass"
   ]
  },
  {
   "cell_type": "markdown",
   "metadata": {},
   "source": [
    "## Task 1.3 Graph-Search \n",
    "Construir el algoritmo genérico (familia de graphSearch). Este recibirá de parámetro una instancia del framework de problemas. Implemente los siguientes algoritmos:\n",
    "- Breadth First Search (BFS)\n",
    "- Depth First Search (DFS)\n",
    "- A* (escoger dos heurísticas, justificar elección)"
   ]
  },
  {
   "cell_type": "markdown",
   "metadata": {},
   "source": [
    "## TASK 1.3\n",
    "### Breadth First Search (BFS)"
   ]
  },
  {
   "cell_type": "code",
   "execution_count": null,
   "metadata": {},
   "outputs": [],
   "source": []
  },
  {
   "cell_type": "markdown",
   "metadata": {},
   "source": [
    "## TASK 1.3\n",
    "### Depth First Search (DFS)"
   ]
  },
  {
   "cell_type": "code",
   "execution_count": null,
   "metadata": {},
   "outputs": [],
   "source": []
  },
  {
   "cell_type": "markdown",
   "metadata": {},
   "source": [
    "## TASK 1.3\n",
    "### A* "
   ]
  },
  {
   "cell_type": "code",
   "execution_count": null,
   "metadata": {},
   "outputs": [],
   "source": [
    "# Incluir ambas heurísticas aquí"
   ]
  },
  {
   "cell_type": "markdown",
   "metadata": {},
   "source": [
    "## TASK 1.4\n",
    "Resolver el laberinto de entrada y mostrar en pantalla gráficamente el camino encontrado. **Su representación se basará en la matriz discreta, no en la imagen original.**  "
   ]
  }
 ],
 "metadata": {
  "kernelspec": {
   "display_name": "Python 3 (ipykernel)",
   "language": "python",
   "name": "python3"
  },
  "language_info": {
   "codemirror_mode": {
    "name": "ipython",
    "version": 3
   },
   "file_extension": ".py",
   "mimetype": "text/x-python",
   "name": "python",
   "nbconvert_exporter": "python",
   "pygments_lexer": "ipython3",
   "version": "3.10.2"
  }
 },
 "nbformat": 4,
 "nbformat_minor": 4
}
