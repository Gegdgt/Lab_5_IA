{
 "cells": [
  {
   "cell_type": "markdown",
   "metadata": {},
   "source": [
    "# Task 1\n",
    "Construir un programa que reciba como entrada una imagen cuadrada que represente un laberinto. Deberá dibujar en pantalla la solución al mismo. Deberá considerar las siguientes restricciones:\n",
    "- Las dimensiones de entrada podrán variar entre ejecuciones (pero siempre será una imagen cuadrada)\n",
    "- Las áreas blancas representan caminos libres\n",
    "- Las áreas negras representan paredes sobre las cuales no se puede pasar\n",
    "- Las áreas verdes representan la meta (goalTest positivos) (pueden ser varios)\n",
    "- La área roja representa el punto de inicio (solo podrá haber uno)\n",
    "\n"
   ]
  },
  {
   "cell_type": "markdown",
   "metadata": {},
   "source": [
    "## Task 1.1 Discretización de la imagen"
   ]
  },
  {
   "cell_type": "code",
   "execution_count": 5,
   "metadata": {},
   "outputs": [
    {
     "name": "stdout",
     "output_type": "stream",
     "text": [
      "[[0 0 0 ... 0 0 0]\n",
      " [0 1 1 ... 1 1 0]\n",
      " [1 1 1 ... 1 1 0]\n",
      " ...\n",
      " [1 1 1 ... 1 1 0]\n",
      " [1 1 1 ... 1 1 0]\n",
      " [1 1 1 ... 1 1 0]]\n",
      "None\n",
      "[(79, 214), (79, 223), (80, 213), (80, 218), (80, 219), (81, 213), (81, 218), (81, 219), (84, 211), (84, 215), (84, 216), (84, 221), (84, 222), (84, 226), (85, 212), (85, 213), (85, 217), (85, 218), (85, 219), (85, 220), (85, 224), (85, 225), (86, 211), (86, 226), (89, 214), (89, 223), (90, 214), (90, 217), (90, 220), (90, 223), (91, 214), (91, 218), (91, 219), (91, 223), (92, 215), (92, 222), (476, 77), (476, 78), (476, 79), (476, 80), (477, 73), (477, 74), (478, 72), (478, 73), (478, 74), (479, 71), (479, 72), (479, 81), (480, 76), (480, 77), (480, 84), (481, 75), (481, 76), (481, 77), (482, 69), (482, 74), (482, 75), (482, 85), (483, 75), (483, 85), (485, 85), (486, 71), (487, 71), (488, 71), (490, 72), (492, 77), (492, 78), (492, 79)]\n"
     ]
    }
   ],
   "source": [
    "from PIL import Image \n",
    "import numpy as np\n",
    "\n",
    "def colorMatch(color, target, tolerance=30):\n",
    "    return colorDistance(color, target) <= tolerance\n",
    "\n",
    "def colorDistance(rgb1, rgb2):\n",
    "    return sum((c1-c2) ** 2 for c1, c2 in zip(rgb1, rgb2))**0.5\n",
    "\n",
    "def processImage(path):\n",
    "    # convertir la imagen .png o .bmp a rgba\n",
    "    image = Image.open(path)\n",
    "    image = image.convert('RGBA')\n",
    "\n",
    "    # construir una matriz con ceros (en blanco) del tamaño de la imagen\n",
    "    rows, columns = image.size\n",
    "    matrix = np.zeros((rows, columns), dtype=np.int8)\n",
    "    start = None\n",
    "    goals = []\n",
    "\n",
    "    # definir los colores\n",
    "\n",
    "    blackC = (0, 0, 0, 255)\n",
    "    whiteC = (255, 255, 255, 255)\n",
    "    redC = (255, 0, 0, 255)\n",
    "    greenC = (0, 255, 0, 255)\n",
    "    \n",
    "    for x in range(rows):\n",
    "        for y in range(columns):\n",
    "            red, green, black, a = image.getpixel((x, y))\n",
    "            pixel_color = (red, green, black)\n",
    "            \n",
    "            # identificar límites\n",
    "            if colorMatch(pixel_color, blackC): \n",
    "                matrix[x, y] = 1\n",
    "            \n",
    "            # Identificar el punto de inicio\n",
    "            elif colorMatch(pixel_color, redC, tolerance=30):\n",
    "                start = (x, y)\n",
    "            \n",
    "            # Identificar los puntos a alcanzar \n",
    "            elif colorMatch(pixel_color, greenC, tolerance=30):\n",
    "                goals.append((x, y))\n",
    "\n",
    "    return matrix, start, goals\n",
    "\n",
    "matrix, start, goals = processImage(\"Test.bmp\")\n",
    "print(matrix)\n",
    "print(start)\n",
    "print(goals)"
   ]
  },
  {
   "cell_type": "markdown",
   "metadata": {},
   "source": [
    "## Task 1.2 Framework de Problemas\n",
    "Usar interfaz genérica o abstracta que sirva para representar el framework para definir el problema formal. Se debe utilizar la matriz obtenida del Task 1.1 y con esta deberá deducir las demás funciones del framework. (actions(s), stepCost(s,a,s), etc). Debe utilizar efectivamente los conceptos del paradigma POO. "
   ]
  },
  {
   "cell_type": "code",
   "execution_count": null,
   "metadata": {},
   "outputs": [],
   "source": []
  },
  {
   "cell_type": "markdown",
   "metadata": {},
   "source": [
    "## Task 1.3 Graph-Search \n",
    "Construir el algoritmo genérico (familia de graphSearch). Este recibirá de parámetro una instancia del framework de problemas. Implemente los siguientes algoritmos:\n",
    "- Breadth First Search (BFS)\n",
    "- Depth First Search (DFS)\n",
    "- A* (escoger dos heurísticas, justificar elección)"
   ]
  },
  {
   "cell_type": "markdown",
   "metadata": {},
   "source": [
    "## TASK 1.3\n",
    "### Breadth First Search (BFS)"
   ]
  },
  {
   "cell_type": "code",
   "execution_count": null,
   "metadata": {},
   "outputs": [],
   "source": []
  },
  {
   "cell_type": "markdown",
   "metadata": {},
   "source": [
    "## TASK 1.3\n",
    "### Depth First Search (DFS)"
   ]
  },
  {
   "cell_type": "code",
   "execution_count": null,
   "metadata": {},
   "outputs": [],
   "source": []
  },
  {
   "cell_type": "markdown",
   "metadata": {},
   "source": [
    "## TASK 1.3\n",
    "### A* "
   ]
  },
  {
   "cell_type": "code",
   "execution_count": null,
   "metadata": {},
   "outputs": [],
   "source": [
    "# Incluir ambas heurísticas aquí"
   ]
  },
  {
   "cell_type": "markdown",
   "metadata": {},
   "source": [
    "## TASK 1.4\n",
    "Resolver el laberinto de entrada y mostrar en pantalla gráficamente el camino encontrado. **Su representación se basará en la matriz discreta, no en la imagen original.**  "
   ]
  }
 ],
 "metadata": {
  "kernelspec": {
   "display_name": "Python 3",
   "language": "python",
   "name": "python3"
  },
  "language_info": {
   "codemirror_mode": {
    "name": "ipython",
    "version": 3
   },
   "file_extension": ".py",
   "mimetype": "text/x-python",
   "name": "python",
   "nbconvert_exporter": "python",
   "pygments_lexer": "ipython3",
   "version": "3.11.5"
  }
 },
 "nbformat": 4,
 "nbformat_minor": 2
}
