{
 "cells": [
  {
   "cell_type": "markdown",
   "metadata": {},
   "source": [
    "# Task 1\n",
    "Construir un programa que reciba como entrada una imagen cuadrada que represente un laberinto. Deberá dibujar en pantalla la solución al mismo. Deberá considerar las siguientes restricciones:\n",
    "- Las dimensiones de entrada podrán variar entre ejecuciones (pero siempre será una imagen cuadrada)\n",
    "- Las áreas blancas representan caminos libres\n",
    "- Las áreas negras representan paredes sobre las cuales no se puede pasar\n",
    "- Las áreas verdes representan la meta (goalTest positivos) (pueden ser varios)\n",
    "- La área roja representa el punto de inicio (solo podrá haber uno)\n",
    "\n"
   ]
  },
  {
   "cell_type": "markdown",
   "metadata": {},
   "source": [
    "## Task 1.1 Discretización de la imagen"
   ]
  },
  {
   "cell_type": "code",
   "execution_count": 1,
   "metadata": {},
   "outputs": [
    {
     "ename": "NameError",
     "evalue": "name 'Image' is not defined",
     "output_type": "error",
     "traceback": [
      "\u001b[1;31m---------------------------------------------------------------------------\u001b[0m",
      "\u001b[1;31mNameError\u001b[0m                                 Traceback (most recent call last)",
      "Cell \u001b[1;32mIn[1], line 54\u001b[0m\n\u001b[0;32m     51\u001b[0m pixel_size \u001b[38;5;241m=\u001b[39m \u001b[38;5;241m10\u001b[39m\n\u001b[0;32m     53\u001b[0m \u001b[38;5;66;03m# Discretizar la imagen\u001b[39;00m\n\u001b[1;32m---> 54\u001b[0m discretized_img \u001b[38;5;241m=\u001b[39m \u001b[43mdiscretize_image\u001b[49m\u001b[43m(\u001b[49m\u001b[43mimage_path\u001b[49m\u001b[43m,\u001b[49m\u001b[43m \u001b[49m\u001b[43mpixel_size\u001b[49m\u001b[43m)\u001b[49m\n\u001b[0;32m     56\u001b[0m \u001b[38;5;66;03m# Visualizar la imagen discretizada\u001b[39;00m\n\u001b[0;32m     57\u001b[0m plot_discretized_image(discretized_img)\n",
      "Cell \u001b[1;32mIn[1], line 6\u001b[0m, in \u001b[0;36mdiscretize_image\u001b[1;34m(image_path, pixel_size)\u001b[0m\n\u001b[0;32m      5\u001b[0m \u001b[38;5;28;01mdef\u001b[39;00m \u001b[38;5;21mdiscretize_image\u001b[39m(image_path, pixel_size):\n\u001b[1;32m----> 6\u001b[0m     image \u001b[38;5;241m=\u001b[39m \u001b[43mImage\u001b[49m\u001b[38;5;241m.\u001b[39mopen(image_path)\n\u001b[0;32m      7\u001b[0m     image \u001b[38;5;241m=\u001b[39m image\u001b[38;5;241m.\u001b[39mconvert(\u001b[38;5;124m'\u001b[39m\u001b[38;5;124mRGB\u001b[39m\u001b[38;5;124m'\u001b[39m)\n\u001b[0;32m      9\u001b[0m     \u001b[38;5;66;03m# Invertir los colores de la imagen\u001b[39;00m\n",
      "\u001b[1;31mNameError\u001b[0m: name 'Image' is not defined"
     ]
    }
   ],
   "source": [
    "import numpy as np\n",
    "import matplotlib.pyplot as plt\n",
    "from PIL import ImageOps\n",
    "\n",
    "def discretize_image(image_path, pixel_size):\n",
    "    image = Image.open(image_path)\n",
    "    image = image.convert('RGB')\n",
    "    \n",
    "    # Invertir los colores de la imagen\n",
    "    inverted_image = ImageOps.invert(image)\n",
    "    \n",
    "    image_array = np.array(inverted_image)\n",
    "    height, width, _ = image_array.shape\n",
    "    \n",
    "    # Redimensionar la imagen para que su tamaño sea un múltiplo del tamaño de píxel\n",
    "    height = height // pixel_size * pixel_size\n",
    "    width = width // pixel_size * pixel_size\n",
    "    image_array = image_array[:height, :width]\n",
    "    \n",
    "    discretized_height = height // pixel_size\n",
    "    discretized_width = width // pixel_size\n",
    "    discretized_img = np.zeros((discretized_height, discretized_width), dtype=np.uint8)\n",
    "    \n",
    "    for i in range(0, height, pixel_size):\n",
    "        for j in range(0, width, pixel_size):\n",
    "            region = image_array[i:i+pixel_size, j:j+pixel_size]\n",
    "            avg_pixel_value = np.mean(region)\n",
    "            \n",
    "            # Verifica si el píxel es negro (pared)\n",
    "            if avg_pixel_value < 128: # 128 es un umbral arbitrario para distinguir entre blanco y negro\n",
    "                discretized_img[i//pixel_size, j//pixel_size] = 1  # 1 representa una pared\n",
    "            else:\n",
    "                # Verifica si algún píxel en la región es verde (punto de fin)\n",
    "                if [16, 249, 17] in region.tolist():\n",
    "                    discretized_img[i//pixel_size, j//pixel_size] = 2  # 2 representa el punto de fin\n",
    "                # Verifica si algún píxel en la región es rojo (punto de inicio)\n",
    "                elif [252, 0, 0] in region.tolist():\n",
    "                    discretized_img[i//pixel_size, j//pixel_size] = 3  # 3 representa el punto de inicio\n",
    "                else:\n",
    "                    discretized_img[i//pixel_size, j//pixel_size] = 0  # 0 representa un camino libre\n",
    "    \n",
    "    return discretized_img\n",
    "    \n",
    "def plot_discretized_image(discretized_img):\n",
    "    plt.imshow(discretized_img, cmap='gray')\n",
    "    plt.axis('off')\n",
    "    plt.show()\n",
    "\n",
    "# Ruta de la imagen y tamaño de píxel deseado\n",
    "image_path = \"Test.bmp\"\n",
    "pixel_size = 10\n",
    "\n",
    "# Discretizar la imagen\n",
    "discretized_img = discretize_image(image_path, pixel_size)\n",
    "\n",
    "# Visualizar la imagen discretizada\n",
    "plot_discretized_image(discretized_img)"
   ]
  },
  {
   "cell_type": "markdown",
   "metadata": {},
   "source": [
    "## Task 1.2 Framework de Problemas\n",
    "Usar interfaz genérica o abstracta que sirva para representar el framework para definir el problema formal. Se debe utilizar la matriz obtenida del Task 1.1 y con esta deberá deducir las demás funciones del framework. (actions(s), stepCost(s,a,s), etc). Debe utilizar efectivamente los conceptos del paradigma POO. "
   ]
  },
  {
   "cell_type": "code",
   "execution_count": null,
   "metadata": {},
   "outputs": [],
   "source": []
  },
  {
   "cell_type": "markdown",
   "metadata": {},
   "source": [
    "## Task 1.3 Graph-Search \n",
    "Construir el algoritmo genérico (familia de graphSearch). Este recibirá de parámetro una instancia del framework de problemas. Implemente los siguientes algoritmos:\n",
    "- Breadth First Search (BFS)\n",
    "- Depth First Search (DFS)\n",
    "- A* (escoger dos heurísticas, justificar elección)"
   ]
  },
  {
   "cell_type": "markdown",
   "metadata": {},
   "source": [
    "## TASK 1.3\n",
    "### Breadth First Search (BFS)"
   ]
  },
  {
   "cell_type": "code",
   "execution_count": null,
   "metadata": {},
   "outputs": [],
   "source": []
  },
  {
   "cell_type": "markdown",
   "metadata": {},
   "source": [
    "## TASK 1.3\n",
    "### Depth First Search (DFS)"
   ]
  },
  {
   "cell_type": "code",
   "execution_count": null,
   "metadata": {},
   "outputs": [],
   "source": []
  },
  {
   "cell_type": "markdown",
   "metadata": {},
   "source": [
    "## TASK 1.3\n",
    "### A* "
   ]
  },
  {
   "cell_type": "code",
   "execution_count": null,
   "metadata": {},
   "outputs": [],
   "source": [
    "# Incluir ambas heurísticas aquí"
   ]
  },
  {
   "cell_type": "markdown",
   "metadata": {},
   "source": [
    "## TASK 1.4\n",
    "Resolver el laberinto de entrada y mostrar en pantalla gráficamente el camino encontrado. **Su representación se basará en la matriz discreta, no en la imagen original.**  "
   ]
  }
 ],
 "metadata": {
  "kernelspec": {
   "display_name": "Python 3",
   "language": "python",
   "name": "python3"
  },
  "language_info": {
   "codemirror_mode": {
    "name": "ipython",
    "version": 3
   },
   "file_extension": ".py",
   "mimetype": "text/x-python",
   "name": "python",
   "nbconvert_exporter": "python",
   "pygments_lexer": "ipython3",
   "version": "3.11.5"
  }
 },
 "nbformat": 4,
 "nbformat_minor": 2
}
